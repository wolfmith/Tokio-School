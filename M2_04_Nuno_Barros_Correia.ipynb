{
 "cells": [
  {
   "cell_type": "markdown",
   "metadata": {},
   "source": [
    "# Exercícios Módulo 2. Tipos avançados\n",
    "\n",
    "Considerações a ter em conta:\n",
    "\n",
    "* Guardar este documento com o seguinte formato para entrega: __M2_03_nome_apelido1_apelido2__ \n",
    "* Fazer os exercícios com as ferramentas vistas nas sessões. Ainda não chegámos às condicionais nem ciclos \n",
    "* Comentar o código\n",
    "* Utilizar nomes de variáveis apropriados, se vai guardar uma nota, chamar a essa variável nota, não n ou x"
   ]
  },
  {
   "cell_type": "markdown",
   "metadata": {},
   "source": [
    "## Exercícios de tipos avançados"
   ]
  },
  {
   "cell_type": "markdown",
   "metadata": {},
   "source": [
    "**1) Trabalhar com listas e tuplas**\n",
    "\n",
    "* Criar uma lista e uma tupla que contenha strings (pelo menos 3 elementos). Será de temática livre, sobre o que quiser: veículos, comida, música, etc.\n",
    "* Imprimir a lista e a tupla.\n",
    "* Imprimir o 2.º elemento da lista e o penúltimo da tupla.\n",
    "* Modificar (se puder) algum elemento da lista e da tupla. E imprimir o resultado novamente.\n",
    "* Mostrar o tamanho da lista e da tupla.\n",
    "* Procurar um elemento dentro da lista e da tupla. Mostrar se nos devolve True ou False.\n",
    "* Adicionar (se puder) algum elemento à lista e à tupla. Mostrar a lista e a tupla novamente para verificar se a ação foi realizada corretamente.\n",
    "* Apagar ou eliminar (se puder) o conteúdo da lista e da tupla. Imprimir a lista e a tupla novamente para verificar se a ação foi realizada corretamente.\n"
   ]
  },
  {
   "cell_type": "code",
   "execution_count": 1,
   "metadata": {},
   "outputs": [
    {
     "name": "stdout",
     "output_type": "stream",
     "text": [
      "Lista: ['carro', 'banana', 'música']\n",
      "Tupla: ('bicicleta', 'maçã', 'livro')\n",
      "2º elemento da lista: banana\n",
      "Penúltimo elemento da tupla: maçã\n",
      "Lista após modificação: ['barco', 'banana', 'música']\n",
      "Tupla após modificação: ('bicicleta', 'laranja', 'livro')\n",
      "Tamanho da lista: 3\n",
      "Tamanho da tupla: 3\n",
      "Procurando banana na lista: True\n",
      "Procurando banana na tupla: False\n",
      "Lista após adição de elementos: ['barco', 'banana', 'música', 'abacaxi']\n",
      "Tupla após adição de elementos: ('bicicleta', 'laranja', 'livro', 'pêra')\n",
      "Lista após exclusão de conteúdo: []\n",
      "Tupla após exclusão de conteúdo: ()\n"
     ]
    }
   ],
   "source": [
    "# Completar o exercício aqui\n",
    "\n",
    "# Criação de uma lista e uma tupla com elementos de temas diversos\n",
    "minha_lista = [\"carro\", \"banana\", \"música\"]\n",
    "minha_tupla = (\"bicicleta\", \"maçã\", \"livro\")\n",
    "\n",
    "# Mostrar a lista e a tupla\n",
    "print(\"Lista:\", minha_lista)\n",
    "print(\"Tupla:\", minha_tupla)\n",
    "\n",
    "# Mostrar o 2º elemento da lista e o penúltimo da tupla\n",
    "print(\"2º elemento da lista:\", minha_lista[1])\n",
    "print(\"Penúltimo elemento da tupla:\", minha_tupla[-2])\n",
    "\n",
    "# Modificar um elemento da lista e da tupla (se possível)\n",
    "minha_lista[0] = \"barco\"  # Modificar o primeiro elemento da lista\n",
    "# As tuplas são imutáveis, então não podemos modificar diretamente os elementos.\n",
    "# No entanto, podemos criar uma nova tupla com as modificações desejadas.\n",
    "minha_tupla = minha_tupla[:1] + (\"laranja\",) + minha_tupla[2:]\n",
    "\n",
    "# Mostrar a lista e a tupla novamente após as modificações\n",
    "print(\"Lista após modificação:\", minha_lista)\n",
    "print(\"Tupla após modificação:\", minha_tupla)\n",
    "\n",
    "# Tamanho da lista e da tupla\n",
    "print(\"Tamanho da lista:\", len(minha_lista))\n",
    "print(\"Tamanho da tupla:\", len(minha_tupla))\n",
    "\n",
    "# Procurar um elemento dentro da lista e da tupla\n",
    "elemento_procurado = \"banana\"\n",
    "print(\"Procurando\", elemento_procurado, \"na lista:\", elemento_procurado in minha_lista)\n",
    "print(\"Procurando\", elemento_procurado, \"na tupla:\", elemento_procurado in minha_tupla)\n",
    "\n",
    "# Adicionar um elemento à lista (se possível)\n",
    "minha_lista.append(\"abacaxi\")\n",
    "\n",
    "# Adicionar um elemento à tupla (não é possível diretamente, então recriamos a tupla)\n",
    "minha_tupla = minha_tupla + (\"pêra\",)\n",
    "\n",
    "# Mostrar a lista e a tupla após a adição de elementos\n",
    "print(\"Lista após adição de elementos:\", minha_lista)\n",
    "print(\"Tupla após adição de elementos:\", minha_tupla)\n",
    "\n",
    "# Apagar o conteúdo da lista e da tupla (se possível)\n",
    "minha_lista.clear()\n",
    "minha_tupla = ()     # Não é possível modificar, então recriamos a tupla\n",
    "\n",
    "# Mostrar a lista e a tupla após a exclusão do conteúdo\n",
    "print(\"Lista após exclusão de conteúdo:\", minha_lista)\n",
    "print(\"Tupla após exclusão de conteúdo:\", minha_tupla)\n"
   ]
  },
  {
   "cell_type": "markdown",
   "metadata": {},
   "source": [
    "**2) Trabalhar com sets e dicionários**\n",
    "\n",
    "* Criar um set e um dicionário que contenham strings (pelo menos 3 elementos no caso do set e 3 conjuntos de chave: valor no caso do dicionário). Temática livre, sobre o que quiser, veículos, comida, música, etc.\n",
    "* Mostrar o set e o dicionário\n",
    "* Mostrar (se puder) o 2º elemento do set e o valor da primeira chave-valor do dicionário \n",
    "* Modificar (se puder) algum elemento do set ou do dicionário. E mostrar o resultado \n",
    "* Mostrar o tamanho do set e do dicionário\n",
    "* Fazer uma pesquisa de um elemento dentro do set e dentro do dicionário. Imprimir o resultado (True ou False).\n",
    "* Adicionar (se puder) algum elemento ao set e alguma chave-valor ao dicionário. Imprimir novamente o set e o dicionário para verificar se a acção foi realizada corretamente.\n",
    "* Apagar ou eliminar (se puder) o conteúdo do set e do dicionário. Imprimir de novo o set e o dicionário para verificar se a acção foi realizada corretamente."
   ]
  },
  {
   "cell_type": "code",
   "execution_count": 2,
   "metadata": {},
   "outputs": [
    {
     "name": "stdout",
     "output_type": "stream",
     "text": [
      "Set: {'música', 'banana', 'carro'}\n",
      "Dicionário: {'fruta': 'maçã', 'veículo': 'bicicleta', 'livro': 'Harry Potter'}\n",
      "2º elemento do set: banana\n",
      "Valor da primeira chave-valor do dicionário: maçã\n",
      "Set após modificações: {'avião', 'música', 'banana'}\n",
      "Dicionário após modificações: {'fruta': 'banana', 'veículo': 'bicicleta', 'livro': 'Harry Potter', 'cor': 'vermelho'}\n",
      "Tamanho do set: 3\n",
      "Tamanho do dicionário: 4\n",
      "'banana' existe no set: True\n",
      "'bicicleta' existe no dicionário: True\n",
      "Set após adição de elementos: {'barco', 'banana', 'avião', 'música'}\n",
      "Dicionário após adição de elementos: {'fruta': 'banana', 'veículo': 'bicicleta', 'livro': 'Harry Potter', 'cor': 'vermelho', 'animal': 'gato'}\n",
      "Set após exclusão de conteúdo: set()\n",
      "Dicionário após exclusão de conteúdo: {}\n"
     ]
    }
   ],
   "source": [
    "#  Completar o exercício aqui\n",
    "# Criação de um set e um dicionário com elementos de temas diversos\n",
    "meu_set = {\"carro\", \"banana\", \"música\"}\n",
    "meu_dicionario = {\"fruta\": \"maçã\", \"veículo\": \"bicicleta\", \"livro\": \"Harry Potter\"}\n",
    "\n",
    "# Mostrar o set e o dicionário\n",
    "print(\"Set:\", meu_set)\n",
    "print(\"Dicionário:\", meu_dicionario)\n",
    "\n",
    "# Mostrar o 2º elemento do set e o valor da primeira chave-valor do dicionário (se possível)\n",
    "segundo_elemento_set = list(meu_set)[1]\n",
    "valor_primeira_chave = meu_dicionario[list(meu_dicionario.keys())[0]]\n",
    "\n",
    "print(\"2º elemento do set:\", segundo_elemento_set)\n",
    "print(\"Valor da primeira chave-valor do dicionário:\", valor_primeira_chave)\n",
    "\n",
    "# Modificar um elemento do set e do dicionário (se possível)\n",
    "# Note que os sets não suportam modificação de elementos, então vamos criar um novo set com as modificações.\n",
    "novo_set = meu_set.copy()\n",
    "novo_set.discard(\"carro\")\n",
    "novo_set.add(\"avião\")\n",
    "\n",
    "# Para modificar o dicionário, podemos atribuir um novo valor a uma chave existente ou adicionar uma nova chave-valor.\n",
    "meu_dicionario[\"fruta\"] = \"banana\"\n",
    "meu_dicionario[\"cor\"] = \"vermelho\"\n",
    "\n",
    "# Mostrar o set e o dicionário após as modificações\n",
    "print(\"Set após modificações:\", novo_set)\n",
    "print(\"Dicionário após modificações:\", meu_dicionario)\n",
    "\n",
    "# Tamanho do set e do dicionário\n",
    "print(\"Tamanho do set:\", len(novo_set))\n",
    "print(\"Tamanho do dicionário:\", len(meu_dicionario))\n",
    "\n",
    "# Pesquisa de um elemento dentro do set e do dicionário\n",
    "elemento_pesquisado_set = \"banana\"\n",
    "elemento_pesquisado_dicionario = \"bicicleta\"\n",
    "\n",
    "existe_no_set = elemento_pesquisado_set in novo_set\n",
    "existe_no_dicionario = elemento_pesquisado_dicionario in meu_dicionario.values()\n",
    "\n",
    "print(f\"'{elemento_pesquisado_set}' existe no set:\", existe_no_set)\n",
    "print(f\"'{elemento_pesquisado_dicionario}' existe no dicionário:\", existe_no_dicionario)\n",
    "\n",
    "# Adicionar elementos ao set e ao dicionário (se possível)\n",
    "novo_set.add(\"barco\")\n",
    "meu_dicionario[\"animal\"] = \"gato\"\n",
    "\n",
    "# Mostrar o set e o dicionário após a adição de elementos\n",
    "print(\"Set após adição de elementos:\", novo_set)\n",
    "print(\"Dicionário após adição de elementos:\", meu_dicionario)\n",
    "\n",
    "# Apagar o conteúdo do set e do dicionário\n",
    "novo_set.clear()\n",
    "meu_dicionario.clear()\n",
    "\n",
    "# Mostrar o set e o dicionário após a exclusão do conteúdo\n",
    "print(\"Set após exclusão de conteúdo:\", novo_set)\n",
    "print(\"Dicionário após exclusão de conteúdo:\", meu_dicionario)\n"
   ]
  },
  {
   "cell_type": "markdown",
   "metadata": {},
   "source": [
    "**3) Fazer um programa que peça ao utilizador 3 números que possam int ou float (não é  necessário fazer ciclos , pode repetir o código).\n",
    "Estes números devem ser  adicionados a uma  lista. Quando se finalizar a introdução dos dados, realizar a soma dos elementos da lista e atribuir a uma variavel com nome \"somatório\" . \n",
    "No final, imprimir o resultado.\n",
    "”**\n",
    "\n",
    "*Ajuda: existe uma função chamada sum(lista) Experimente-a!*"
   ]
  },
  {
   "cell_type": "code",
   "execution_count": 6,
   "metadata": {},
   "outputs": [
    {
     "name": "stdout",
     "output_type": "stream",
     "text": [
      "Digite o 1º número: 9\n",
      "Digite o 2º número: 8\n",
      "Digite o 3º número: 4\n",
      "[9.0, 8.0, 4.0]\n",
      "O somatório dos números é: 21.0\n"
     ]
    }
   ],
   "source": [
    "# Completar o exercício aqui\n",
    "\n",
    "# função para solicitar um número ao usuário e retorná-lo\n",
    "def solicitar_numero(n):\n",
    "    numero = float(input(f\"Digite o {n}º número: \"))  # Solicita um número ao usuário e o converte para float\n",
    "    return numero\n",
    "    \n",
    "# Solicita ao usuário 3 números e guarda numa lista\n",
    "numeros = [solicitar_numero(1), solicitar_numero(2), solicitar_numero(3)]  \n",
    "#print(numeros)\n",
    "\n",
    "# Calcula o somatório dos elementos da lista usando a função sum()\n",
    "somatorio = sum(numeros)\n",
    "\n",
    "# Imprime o resultado do somatório\n",
    "print(f\"O somatório dos números é: {somatorio}\") "
   ]
  },
  {
   "cell_type": "markdown",
   "metadata": {},
   "source": [
    "**4) Continuar o exercício anterior; calcular a média aritmética dos elementos da lista e imprimir o resultado.**\n",
    "\n",
    "*Neste caso sabemos que o número de elementos que o utilizador introduziu é 3, mas o objetivo será deixar o programa abstrato,e portanto, não fazer referência ao número 3; deve calcular o numeros de elementos da lista*"
   ]
  },
  {
   "cell_type": "code",
   "execution_count": 23,
   "metadata": {},
   "outputs": [
    {
     "name": "stdout",
     "output_type": "stream",
     "text": [
      "Digite o 1º número: 4\n",
      "Digite o 2º número: 4\n",
      "Digite o 3º número: 4\n",
      "A média dos números é: 4.0\n"
     ]
    }
   ],
   "source": [
    "# Completar o exercício aqui\n",
    "\n",
    "# função para solicitar um número ao usuário e retorná-lo\n",
    "def solicitar_numero(n):\n",
    "    numero = float(input(f\"Digite o {n}º número: \"))  # Solicita um número ao usuário e o converte para float\n",
    "    return numero\n",
    "    \n",
    "# Solicita ao usuário 3 números e guarda numa lista\n",
    "numeros = [solicitar_numero(1), solicitar_numero(2), solicitar_numero(3)]  \n",
    "#print(numeros)\n",
    "\n",
    "# Calcula o somatório dos elementos da lista usando a função sum()\n",
    "somatorio = sum(numeros)\n",
    "\n",
    "# Calcula a média aritmética dos elementos da lista\n",
    "media = somatorio / len(numeros)\n",
    "#print(media)\n",
    "\n",
    "# Imprime o resultado da média com 1 casa décimal\n",
    "print(f\"A média dos números é: {media:.1f}\")"
   ]
  },
  {
   "cell_type": "markdown",
   "metadata": {},
   "source": [
    "**5) Dada a seguinte matriz (lista com quatro listas como elementos), o objectivo é que em cada sublista, o quarto elemento seja sempre o resultado da soma dos três primeiros elementos. Construa um pequeno programa que realize este cálculo.**\n",
    "\n",
    "Pista: modificar as somas erradas utilizando o slicing\n",
    "\n",
    "\n",
    "* Não vale colocar diretamente os valores (nem os índices nem a soma): \n",
    "* matriz[1][3] = 6\n",
    "* matriz[3][3] = 12\n",
    "* Há que pesquisar uma forma automatizada de aceder e modificar esses valores"
   ]
  },
  {
   "cell_type": "code",
   "execution_count": 5,
   "metadata": {},
   "outputs": [
    {
     "name": "stdout",
     "output_type": "stream",
     "text": [
      "[1, 1, 1, 3]\n",
      "[2, 2, 2, 6]\n",
      "[3, 3, 3, 9]\n",
      "[4, 4, 4, 12]\n"
     ]
    }
   ],
   "source": [
    "matriz = [ \n",
    "    [1, 1, 1, 3],\n",
    "    [2, 2, 2, 7],\n",
    "    [3, 3, 3, 9],\n",
    "    [4, 4, 4, 13]\n",
    "]\n",
    "\n",
    "# Completar o exercício aqui\n",
    "\n",
    "# Percorre cada sublista na matriz\n",
    "for sublista in matriz:\n",
    "    # Calcula a soma dos três primeiros elementos\n",
    "    soma = sum(sublista[:3])\n",
    "    # Verifica se o último elemento não está correto\n",
    "    if sublista[3] != soma:\n",
    "        # Substitui o último elemento pelo valor correto\n",
    "        sublista[3] = soma\n",
    "\n",
    "# Imprime a matriz atualizada\n",
    "for sublista in matriz:\n",
    "    print(sublista)"
   ]
  },
  {
   "cell_type": "markdown",
   "metadata": {},
   "source": [
    "**6) Supor que obtém uma string invertida. Esta string contém o nome e a nota de um aluno. Formate este string para obter o seguinte output:**\n",
    "\n",
    "* ***Nome Apelido*** teve um(a) ***Nota*** de nota\n",
    "\n",
    "*Pista: Para inverter uma string usando a técnica de slicing pode-se utilizar um terceiro índice -1: cadeia[::-1]*"
   ]
  },
  {
   "cell_type": "code",
   "execution_count": 15,
   "metadata": {},
   "outputs": [
    {
     "name": "stdout",
     "output_type": "stream",
     "text": [
      "Carlos Perez teve um(a) 10 de nota\n"
     ]
    }
   ],
   "source": [
    "cadeia = \"zereP solraC,01\"\n",
    "\n",
    "# Completar o exercício aqui\n",
    "\n",
    "# Inverte a string\n",
    "cadeia_invertida = cadeia[::-1]\n",
    "\n",
    "# Divide a string invertida em nome e nota usando a vírgula como separador\n",
    "nota, nome = cadeia_invertida.split(',')\n",
    "\n",
    "# Formata a saída desejada\n",
    "print(f\"{nome} teve um(a) {nota} de nota\")"
   ]
  },
  {
   "cell_type": "markdown",
   "metadata": {},
   "source": [
    "**7) Fazer um programa que cumpra as seguintes instruções:**\n",
    "\n",
    "* Criar um conjunto chamado utilizadores com os utilizadores Marta, David, Elvira, Juan e Marcos \n",
    "* Criar um conjunto chamado administradores com os administradores Juan e Marta.\n",
    "* Apagar o administrador Juan do conjunto de administradores.\n",
    "* Adicionar Marcos como um novo administrador, mas não o apagar do conjunto de utilizadores.\n",
    "* Imprimir todos os utilizadores por ecrã de forma dinâmica (loop); indicar também se os utilizadores são administradores (ou não).\n",
    "\n",
    "Notas: os conjuntos podem ser percorridos dinâmicamente, utilizando o ciclo **for** de forma similar a uma lista. Também contam com um método chamado **.discard (elemento)** que serve para apagar um elemento.\n",
    "* "
   ]
  },
  {
   "cell_type": "code",
   "execution_count": 19,
   "metadata": {},
   "outputs": [
    {
     "name": "stdout",
     "output_type": "stream",
     "text": [
      "David não faz parte dos administradores.\n",
      "Marcos faz parte dos administradores.\n",
      "Marta faz parte dos administradores.\n",
      "Juan não faz parte dos administradores.\n",
      "Elvira não faz parte dos administradores.\n"
     ]
    }
   ],
   "source": [
    "# Completar o exercício aqui\n",
    "\n",
    "# Criar um conjunto chamado utilizadores com os utilizadores Marta, David, Elvira, Juan e Marcos\n",
    "utilizadores = {\"Marta\", \"David\", \"Elvira\", \"Juan\", \"Marcos\"}\n",
    "\n",
    "# Criar um conjunto chamado administradores com os administradores Juan e Marta\n",
    "administradores = {\"Juan\", \"Marta\"}\n",
    "\n",
    "# Apagar o administrador Juan do conjunto de administradores\n",
    "administradores.discard(\"Juan\")\n",
    "\n",
    "# Adicionar Marcos como um novo administrador, mas não o apagar do conjunto de utilizadores\n",
    "administradores.add(\"Marcos\")\n",
    "\n",
    "# Imprimir todos os utilizadores por ecrã de forma dinâmica (loop)\n",
    "for utilizador in utilizadores:\n",
    "    if utilizador in administradores:\n",
    "        print(f\"{utilizador} faz parte dos administradores.\")\n",
    "    else:\n",
    "        print(f\"{utilizador} não faz parte dos administradores.\")\n"
   ]
  },
  {
   "cell_type": "markdown",
   "metadata": {},
   "source": [
    "**8) Existe um videojogo na qual os atributos das personagens estão  guardadas nos seguintes dicionários:**\n",
    "\n",
    "* cavaleiro = { 'vida':2, 'ataque':2, 'defesa': 2, 'alcance':2 }\n",
    "* guerreiro = { 'vida':2, 'ataque':2, 'defesa': 2, 'alcance':2 }\n",
    "* arqueiro = { 'vida':2, 'ataque':2, 'defesa': 2, 'alcance':2 }\n",
    "\n",
    "Ao passar para o segundo nível do jogo, temos de automaticamente alterar os seus valores:\n",
    "\n",
    "* O cavaleiro terá o dobro de vida e de defesa que um guerreiro.\n",
    "* O guerreiro terá o dobro do ataque e do alcance que um cavaleiro.\n",
    "* O arqueiro terá a mesma vida e ataque que um guerreiro, mas a metade da sua defesa e o dobro do seu alcance.\n",
    "\n",
    "Imprimir como fica os atributos das três personagens.\n"
   ]
  },
  {
   "cell_type": "code",
   "execution_count": 6,
   "metadata": {},
   "outputs": [
    {
     "name": "stdout",
     "output_type": "stream",
     "text": [
      "Atributos do Cavaleiro: {'vida': 4, 'ataque': 2, 'defesa': 4, 'alcance': 2}\n",
      "Atributos do Guerreiro: {'vida': 2, 'ataque': 4, 'defesa': 2, 'alcance': 4}\n",
      "Atributos do Arqueiro: {'vida': 2, 'ataque': 4, 'defesa': 1.0, 'alcance': 8}\n"
     ]
    }
   ],
   "source": [
    "cavaleiro = { 'vida':2, 'ataque':2, 'defesa': 2, 'alcance':2 }\n",
    "guerreiro = { 'vida':2, 'ataque':2, 'defesa': 2, 'alcance':2 }\n",
    "arqueiro  = { 'vida':2, 'ataque':2, 'defesa': 2, 'alcance':2 }\n",
    "\n",
    "# Completar o exercício aqui\n",
    "\n",
    "# Atualiza os atributos para o segundo nível do jogo\n",
    "# O cavaleiro terá o dobro de vida e de defesa que um guerreiro.\n",
    "cavaleiro['vida'] = 2*guerreiro['vida']\n",
    "cavaleiro['defesa'] = 2*guerreiro['defesa']\n",
    "\n",
    "# O guerreiro terá o dobro do ataque e do alcance que um cavaleiro.\n",
    "guerreiro['ataque'] = 2*cavaleiro['ataque']\n",
    "guerreiro['alcance'] = 2*cavaleiro['alcance']\n",
    "\n",
    "# O arqueiro terá a mesma vida e ataque que um guerreiro, mas a metade da sua defesa e o dobro do seu alcance.\n",
    "arqueiro['vida'] = guerreiro['vida']\n",
    "arqueiro['ataque'] = guerreiro['ataque']\n",
    "arqueiro['defesa'] = guerreiro['defesa']/2\n",
    "arqueiro['alcance'] = 2*guerreiro['alcance']\n",
    "\n",
    "# Imprime os atributos atualizados das personagens\n",
    "print(\"Atributos do Cavaleiro:\", cavaleiro)\n",
    "print(\"Atributos do Guerreiro:\", guerreiro)\n",
    "print(\"Atributos do Arqueiro:\", arqueiro)\n"
   ]
  }
 ],
 "metadata": {
  "anaconda-cloud": {},
  "kernelspec": {
   "display_name": "Python 3 (ipykernel)",
   "language": "python",
   "name": "python3"
  },
  "language_info": {
   "codemirror_mode": {
    "name": "ipython",
    "version": 3
   },
   "file_extension": ".py",
   "mimetype": "text/x-python",
   "name": "python",
   "nbconvert_exporter": "python",
   "pygments_lexer": "ipython3",
   "version": "3.8.17"
  },
  "toc": {
   "base_numbering": 1,
   "nav_menu": {},
   "number_sections": true,
   "sideBar": true,
   "skip_h1_title": false,
   "title_cell": "Table of Contents",
   "title_sidebar": "Contents",
   "toc_cell": false,
   "toc_position": {},
   "toc_section_display": true,
   "toc_window_display": false
  },
  "varInspector": {
   "cols": {
    "lenName": 16,
    "lenType": 16,
    "lenVar": 40
   },
   "kernels_config": {
    "python": {
     "delete_cmd_postfix": "",
     "delete_cmd_prefix": "del ",
     "library": "var_list.py",
     "varRefreshCmd": "print(var_dic_list())"
    },
    "r": {
     "delete_cmd_postfix": ") ",
     "delete_cmd_prefix": "rm(",
     "library": "var_list.r",
     "varRefreshCmd": "cat(var_dic_list()) "
    }
   },
   "types_to_exclude": [
    "module",
    "function",
    "builtin_function_or_method",
    "instance",
    "_Feature"
   ],
   "window_display": false
  }
 },
 "nbformat": 4,
 "nbformat_minor": 1
}
