{
 "cells": [
  {
   "cell_type": "markdown",
   "metadata": {},
   "source": [
    "# Exercícios Módulo 5. Excel e CSV (Enunciado)\n",
    "\n",
    "Considerações a ter em conta: \n",
    "\n",
    "* Guardar este documento com o seguinte formato para entrega: __M5_02_nome_apelido1_apelido2__\n",
    "* Fazer os exercícios com as ferramentas vistas nas sessões. \n",
    "* Comentar o código\n",
    "* Utilizar nomes de variáveis apropriados, se vai guardar uma nota, chamar a essa variável nota, não n ou x\n",
    "\n",
    "__Recomendação__: fazer uma cópia dos ficheiros antes de os modificar para sempre poder recuperar uma versão original dos mesmos"
   ]
  },
  {
   "cell_type": "markdown",
   "metadata": {},
   "source": [
    "## EXCEL"
   ]
  },
  {
   "cell_type": "markdown",
   "metadata": {},
   "source": [
    "**1)  Exercício de manuseio de Excel com base ao ficheiro 02_Excel_data.xlsx:**\n",
    "\n",
    "* Abrir o ficheiro Excel \n",
    "* Listar as folhas do ficheiro\n",
    "* Criar uma nova folha chamada **\"olimpíadas\"** (caso exista no ficheiro, pode colocar outro nome).\n",
    "* Voltar a listar as folhas\n",
    "* Guardar e comprovar as alterações no excel"
   ]
  },
  {
   "cell_type": "code",
   "execution_count": 1,
   "metadata": {},
   "outputs": [
    {
     "name": "stdout",
     "output_type": "stream",
     "text": [
      "Arquivo Excel \"02_Excel_data.xlsx\" aberto com sucesso.\n",
      "Folhas do arquivo Excel: ['address', 'ventas', 'Olimpiadas']\n",
      "Folha \"olimpíadas\" criada com sucesso.\n",
      "Folhas do arquivo Excel após criação: ['address', 'ventas', 'Olimpiadas', 'olimpíadas']\n",
      "Alterações salvas com sucesso.\n",
      "Arquivo Excel fechado.\n"
     ]
    }
   ],
   "source": [
    "# Completar o exercício aqui\n",
    "import openpyxl\n",
    "\n",
    "# Nome do arquivo Excel\n",
    "nome_arquivo = '02_Excel_data.xlsx'\n",
    "\n",
    "# Abrir o arquivo Excel\n",
    "try:\n",
    "    workbook = openpyxl.load_workbook(nome_arquivo)\n",
    "    print(f'Arquivo Excel \"{nome_arquivo}\" aberto com sucesso.')\n",
    "except FileNotFoundError:\n",
    "    print(f'O arquivo Excel \"{nome_arquivo}\" não foi encontrado.')\n",
    "\n",
    "# Listar as folhas do arquivo Excel\n",
    "print(f'Folhas do arquivo Excel: {workbook.sheetnames}')\n",
    "\n",
    "# Criar uma nova folha chamada \"olimpíadas\" (ou outro nome)\n",
    "nova_folha_nome = \"olimpíadas\"\n",
    "if nova_folha_nome not in workbook.sheetnames:\n",
    "    workbook.create_sheet(nova_folha_nome)\n",
    "    print(f'Folha \"{nova_folha_nome}\" criada com sucesso.')\n",
    "\n",
    "# Listar as folhas novamente\n",
    "print(f'Folhas do arquivo Excel após criação: {workbook.sheetnames}')\n",
    "\n",
    "# Salvar as alterações no arquivo Excel\n",
    "workbook.save(nome_arquivo)\n",
    "print('Alterações salvas com sucesso.')\n",
    "\n",
    "# Fechar o arquivo Excel\n",
    "workbook.close()\n",
    "print('Arquivo Excel fechado.')\n"
   ]
  },
  {
   "cell_type": "markdown",
   "metadata": {},
   "source": [
    "**2) Continuar com o Excel**\n",
    "* Criar uma lista que contenha os seguintes dados (nome do país e medalhas de ouro, prata e bronze):\n",
    "```\n",
    "USA, 46, 12, 5\n",
    "China, 38, 20, 7\n",
    "UK, 29, 7, 7\n",
    "Russia, 22, 10, 9\n",
    "South Korea, 13, 3, 2\n",
    "Germany, 11, 7, 4\n",
    "```\n",
    "* Adicionar essa lista à folha de olimpíadas que criámos no exercício anterior \n",
    "* Listar por filas e colunas o conteúdo\n",
    "* Mover todo o intervalo de dados uma fila para baixo (pesquisar na documentação como mover intervalos)\n",
    "* Adicionar umas cabeceiras na primeira linha (que acaba de ficar livre) que sejam “País”, “Ouros”, “Pratas”, “Bronzes” \n",
    "* Guardar e comprovar as alterações no excel "
   ]
  },
  {
   "cell_type": "code",
   "execution_count": 2,
   "metadata": {},
   "outputs": [
    {
     "name": "stdout",
     "output_type": "stream",
     "text": [
      "Arquivo Excel \"02_Excel_data.xlsx\" aberto com sucesso.\n",
      "Alterações salvas com sucesso.\n",
      "Arquivo Excel fechado.\n"
     ]
    }
   ],
   "source": [
    "# Completar o exercício aqui\n",
    "\n",
    "import openpyxl\n",
    "\n",
    "# Nome do arquivo Excel\n",
    "nome_arquivo = '02_Excel_data.xlsx'\n",
    "\n",
    "# Abrir o arquivo Excel\n",
    "try:\n",
    "    workbook = openpyxl.load_workbook(nome_arquivo)\n",
    "    print(f'Arquivo Excel \"{nome_arquivo}\" aberto com sucesso.')\n",
    "except FileNotFoundError:\n",
    "    print(f'O arquivo Excel \"{nome_arquivo}\" não foi encontrado.')\n",
    "\n",
    "# Selecionar a folha \"olimpíadas\" (ou outra que você criou)\n",
    "folha = workbook['olimpíadas']\n",
    "\n",
    "# Dados a serem adicionados\n",
    "dados = [\n",
    "    [\"País\", \"Ouros\", \"Pratas\", \"Bronzes\"],\n",
    "    [\"USA\", 46, 12, 5],\n",
    "    [\"China\", 38, 20, 7],\n",
    "    [\"UK\", 29, 7, 7],\n",
    "    [\"Russia\", 22, 10, 9],\n",
    "    [\"South Korea\", 13, 3, 2],\n",
    "    [\"Germany\", 11, 7, 4],\n",
    "]\n",
    "\n",
    "# Adicionar os dados à folha\n",
    "for linha in dados:\n",
    "    folha.append(linha)\n",
    "\n",
    "# Salvar as alterações no arquivo Excel\n",
    "workbook.save(nome_arquivo)\n",
    "print('Alterações salvas com sucesso.')\n",
    "\n",
    "# Fechar o arquivo Excel\n",
    "workbook.close()\n",
    "print('Arquivo Excel fechado.')\n"
   ]
  },
  {
   "cell_type": "markdown",
   "metadata": {},
   "source": [
    "**3)  Continuar com o Excel, centrando-se na livraria openpyxl.styles (a qual proporciona estilo às nossas folhas de Excel)**\n",
    "* Colocar as cabeceiras que acabámos de adicionar a negrito (bold) \n",
    "* Guardar e comprovar as alterações no excel\n",
    "\n",
    "Pista: embora haja várias formas de o fazer, o mais comum é definir o estilo que deseja (negrito) e logo aplicá-lo a todas as células que queira (iterar pela primeira fila da nossa folha)\n",
    "\n",
    "\n",
    "Doc: https://openpyxl.readthedocs.io/en/stable/styles.html"
   ]
  },
  {
   "cell_type": "code",
   "execution_count": 3,
   "metadata": {},
   "outputs": [
    {
     "name": "stdout",
     "output_type": "stream",
     "text": [
      "Arquivo Excel \"02_Excel_data.xlsx\" aberto com sucesso.\n",
      "Alterações salvas com sucesso.\n",
      "Arquivo Excel fechado.\n"
     ]
    }
   ],
   "source": [
    "# Completar o exercício aqui\n",
    "\n",
    "import openpyxl\n",
    "from openpyxl.styles import Font\n",
    "\n",
    "# Nome do arquivo Excel\n",
    "nome_arquivo = '02_Excel_data.xlsx'\n",
    "\n",
    "# Abrir o arquivo Excel\n",
    "try:\n",
    "    workbook = openpyxl.load_workbook(nome_arquivo)\n",
    "    print(f'Arquivo Excel \"{nome_arquivo}\" aberto com sucesso.')\n",
    "except FileNotFoundError:\n",
    "    print(f'O arquivo Excel \"{nome_arquivo}\" não foi encontrado.')\n",
    "\n",
    "# Selecionar a folha \"olimpíadas\" (ou outra que você criou)\n",
    "folha = workbook['olimpíadas']\n",
    "\n",
    "# Definir um estilo para o texto em negrito\n",
    "negrito = Font(bold=True)\n",
    "\n",
    "# Aplicar o estilo às células da primeira linha (cabeçalhos)\n",
    "for cell in folha[1]:\n",
    "    cell.font = negrito\n",
    "\n",
    "# Salvar as alterações no arquivo Excel\n",
    "workbook.save(nome_arquivo)\n",
    "print('Alterações salvas com sucesso.')\n",
    "\n",
    "# Fechar o arquivo Excel\n",
    "workbook.close()\n",
    "print('Arquivo Excel fechado.')\n"
   ]
  },
  {
   "cell_type": "markdown",
   "metadata": {},
   "source": [
    "**4) Continuar com o Excel. Criar uma nova coluna que seja o somatório de todas as medalhas conseguidas por cada país**"
   ]
  },
  {
   "cell_type": "code",
   "execution_count": 6,
   "metadata": {},
   "outputs": [
    {
     "name": "stdout",
     "output_type": "stream",
     "text": [
      "Arquivo Excel \"02_Excel_data.xlsx\" aberto com sucesso.\n",
      "Alterações salvas com sucesso.\n",
      "Arquivo Excel fechado.\n"
     ]
    }
   ],
   "source": [
    "# Completar o exercício aqui\n",
    "\n",
    "import openpyxl\n",
    "from openpyxl.styles import Font\n",
    "\n",
    "# Nome do arquivo Excel\n",
    "nome_arquivo = '02_Excel_data.xlsx'\n",
    "\n",
    "# Abrir o arquivo Excel\n",
    "try:\n",
    "    workbook = openpyxl.load_workbook(nome_arquivo)\n",
    "    print(f'Arquivo Excel \"{nome_arquivo}\" aberto com sucesso.')\n",
    "except FileNotFoundError:\n",
    "    print(f'O arquivo Excel \"{nome_arquivo}\" não foi encontrado.')\n",
    "\n",
    "# Selecionar a folha \"olimpíadas\" (ou outra que você criou)\n",
    "folha = workbook['olimpíadas']\n",
    "\n",
    "# Create a Font object for bold text\n",
    "bold_font = Font(bold=True)\n",
    "\n",
    "# Set the title \"Totais\" in cell E1 and apply the bold font\n",
    "folha[\"E1\"] = \"Totais\"\n",
    "folha[\"E1\"].font = bold_font\n",
    "\n",
    "# Adicionar fórmula na nova coluna para calcular o somatório das medalhas\n",
    "for row in range(2, folha.max_row + 1):\n",
    "    # Célula na nova coluna (coluna 5) para inserir a fórmula\n",
    "    celula_formula = folha.cell(row=row, column=5)\n",
    "    \n",
    "    # Definir a fórmula Excel para somar as medalhas de ouro, prata e bronze\n",
    "    formula = f'=SUM(B{row}:D{row})'\n",
    "    \n",
    "    # Atribuir a fórmula à célula\n",
    "    celula_formula.value = formula\n",
    "\n",
    "# Salvar as alterações no arquivo Excel\n",
    "workbook.save(nome_arquivo)\n",
    "print('Alterações salvas com sucesso.')\n",
    "\n",
    "# Fechar o arquivo Excel\n",
    "workbook.close()\n",
    "print('Arquivo Excel fechado.')\n"
   ]
  },
  {
   "cell_type": "markdown",
   "metadata": {},
   "source": [
    "**5)  Continuar com o Excel. Criar um gráfico de barras (openpyxl.chart.BarChart()) o mais parecido ao que se mostra na imagem:**\n",
    "\n",
    "<img src=\"./02_Excel_data.png\"  />"
   ]
  },
  {
   "cell_type": "code",
   "execution_count": 9,
   "metadata": {},
   "outputs": [
    {
     "name": "stdout",
     "output_type": "stream",
     "text": [
      "Arquivo Excel \"02_Excel_data.xlsx\" aberto com sucesso.\n",
      "Gráfico acrescentado com sucesso!\n",
      "Arquivo Excel fechado.\n"
     ]
    }
   ],
   "source": [
    "#import openpyxl\n",
    "#data = openpyxl.chart.Reference(hoja_olimpiadas, min_col=5, min_row=2, max_col=5, max_row=7)\n",
    "#categs = openpyxl.chart.Reference(hoja_olimpiadas, min_col=1, min_row=2, max_row=7)\n",
    "\n",
    "# Completar o exercício aqui\n",
    "\n",
    "import openpyxl\n",
    "from openpyxl.chart import BarChart, Reference\n",
    "\n",
    "# Nome do arquivo Excel\n",
    "nome_arquivo = '02_Excel_data.xlsx'\n",
    "\n",
    "# Abrir o arquivo Excel\n",
    "try:\n",
    "    workbook = openpyxl.load_workbook(nome_arquivo)\n",
    "    print(f'Arquivo Excel \"{nome_arquivo}\" aberto com sucesso.')\n",
    "except FileNotFoundError:\n",
    "    print(f'O arquivo Excel \"{nome_arquivo}\" não foi encontrado.')\n",
    "\n",
    "folha = workbook['olimpíadas']\n",
    "\n",
    "# Create a bar chart\n",
    "chart = BarChart()\n",
    "chart.title = \"Medalhas olímpicas\"\n",
    "chart.y_axis.title = \"\"  # No título do eixo Y na imagem, então deixei vazio.\n",
    "\n",
    "# Define data for the chart\n",
    "data = Reference(folha, min_col=5, min_row=1, max_row=folha.max_row, max_col=5)\n",
    "categories = Reference(folha, min_col=1, min_row=2, max_row=folha.max_row)\n",
    "\n",
    "chart.add_data(data, titles_from_data=True)\n",
    "chart.set_categories(categories)\n",
    "\n",
    "# Apply the varyColors attribute to enable automatic color variation\n",
    "chart.varyColors = True\n",
    "\n",
    "# Remove the legend\n",
    "chart.legend = None\n",
    "\n",
    "# Remove major gridlines on the Y-axis\n",
    "chart.y_axis.majorGridlines = None\n",
    "\n",
    "# Add the chart to the worksheet\n",
    "folha.add_chart(chart, \"G2\")\n",
    "\n",
    "# Save the Excel file with the chart\n",
    "workbook.save(\"02_Excel_data.xlsx\")\n",
    "print(\"Gráfico acrescentado com sucesso!\")\n",
    "\n",
    "# Fechar o arquivo Excel\n",
    "workbook.close()\n",
    "print('Arquivo Excel fechado.')"
   ]
  },
  {
   "cell_type": "markdown",
   "metadata": {},
   "source": [
    "## CSV"
   ]
  },
  {
   "cell_type": "markdown",
   "metadata": {},
   "source": [
    "**Vamos fazer um exercício prático de *Data Mining*, onde iremos limpar e filtrar informação com um csv que contém dados de veículos**\n",
    "\n",
    "Trabalhar com o ficheiro **02_CSV_data.csv**"
   ]
  },
  {
   "cell_type": "markdown",
   "metadata": {},
   "source": [
    "**6) Observar os dados do csv e fazer as seguintes tarefas:**\n",
    "\n",
    "* Temos 9 colunas, as 8 primeiras contêm dados numéricos com os quais podemos trabalhar, criar uma lista para cada uma destas colunas (mpg, cylinders, etc.). Não é necessário criar lista para *name*\n",
    "* Percorrer os dados do csv adequadamente e armazenar os dados de cada coluna em cada uma das listas que criou anteriormente.\n",
    "* Comprovar que se guardou nas listas a informação correspondente (com prints)"
   ]
  },
  {
   "cell_type": "code",
   "execution_count": 2,
   "metadata": {},
   "outputs": [
    {
     "name": "stdout",
     "output_type": "stream",
     "text": [
      "mpg_data: [18.0, 15.0, 18.0, 16.0, 17.0]\n",
      "cylinders_data: [8, 8, 8, 8, 8]\n",
      "displacement_data: [307.0, 350.0, 318.0, 304.0, 302.0]\n",
      "horsepower_data: [130.0, 165.0, 150.0, 150.0, 140.0]\n",
      "weight_data: [3504.0, 3693.0, 3436.0, 3433.0, 3449.0]\n",
      "acceleration_data: [12.0, 11.5, 11.0, 12.0, 10.5]\n",
      "model_year_data: [70, 70, 70, 70, 70]\n",
      "origin_data: [1, 1, 1, 1, 1]\n"
     ]
    }
   ],
   "source": [
    "# Completar o exercício aqui\n",
    "\n",
    "import csv\n",
    "\n",
    "# Listas para armazenar os dados de cada coluna\n",
    "mpg_data = []\n",
    "cylinders_data = []\n",
    "displacement_data = []\n",
    "horsepower_data = []\n",
    "weight_data = []\n",
    "acceleration_data = []\n",
    "model_year_data = []\n",
    "origin_data = []\n",
    "\n",
    "# Abrir o arquivo CSV e ler os dados\n",
    "with open(\"02_CSV_data.csv\", newline='') as csvfile:\n",
    "    reader = csv.reader(csvfile)\n",
    "    \n",
    "    # Pular o cabeçalho\n",
    "    next(reader)\n",
    "    \n",
    "    for row in reader:\n",
    "        # Converter os valores para os tipos de dados apropriados e adicioná-los às listas\n",
    "        mpg_data.append(float(row[0]))\n",
    "        cylinders_data.append(int(row[1]))\n",
    "        displacement_data.append(float(row[2]))\n",
    "        horsepower_data.append(float(row[3]))\n",
    "        weight_data.append(float(row[4]))\n",
    "        acceleration_data.append(float(row[5]))\n",
    "        model_year_data.append(int(row[6]))\n",
    "        origin_data.append(int(row[7]))\n",
    "\n",
    "# Comprovando os dados nas listas com prints\n",
    "print(\"mpg_data:\", mpg_data[:5])  # Exibindo os primeiros 5 elementos da lista mpg_data como exemplo\n",
    "print(\"cylinders_data:\", cylinders_data[:5])\n",
    "print(\"displacement_data:\", displacement_data[:5])\n",
    "print(\"horsepower_data:\", horsepower_data[:5])\n",
    "print(\"weight_data:\", weight_data[:5])\n",
    "print(\"acceleration_data:\", acceleration_data[:5])\n",
    "print(\"model_year_data:\", model_year_data[:5])\n",
    "print(\"origin_data:\", origin_data[:5])\n",
    "\n",
    "# Fechar o arquivo CSV\n",
    "csvfile.close()"
   ]
  },
  {
   "cell_type": "markdown",
   "metadata": {},
   "source": [
    "**7) Vamos trabalhar os números das listas criadas, pelo que nos falta alterar o primeiro elemento de cada lista, o qual contém o nome de cada uma das colunas.**\n",
    "\n",
    "* Eliminar o primeiro elemento de cada uma das listas\n",
    "* Observar que o tipo dos dados das nossas listas (strings), convertê-los para float. Pista: list e map podem ajudar. \n",
    "* Comprovar que se eliminou o primeiro elemento e que os dados são numéricos (com prints)"
   ]
  },
  {
   "cell_type": "code",
   "execution_count": 3,
   "metadata": {},
   "outputs": [
    {
     "name": "stdout",
     "output_type": "stream",
     "text": [
      "mpg_data: [15.0, 18.0, 16.0, 17.0, 15.0]\n",
      "cylinders_data: [8.0, 8.0, 8.0, 8.0, 8.0]\n",
      "displacement_data: [350.0, 318.0, 304.0, 302.0, 429.0]\n",
      "horsepower_data: [165.0, 150.0, 150.0, 140.0, 198.0]\n",
      "weight_data: [3693.0, 3436.0, 3433.0, 3449.0, 4341.0]\n",
      "acceleration_data: [11.5, 11.0, 12.0, 10.5, 10.0]\n",
      "model_year_data: [70.0, 70.0, 70.0, 70.0, 70.0]\n",
      "origin_data: [1.0, 1.0, 1.0, 1.0, 1.0]\n"
     ]
    }
   ],
   "source": [
    "# Completar o exercício aqui\n",
    "\n",
    "# Remover o primeiro elemento de cada lista (os nomes das colunas)\n",
    "del mpg_data[0]\n",
    "del cylinders_data[0]\n",
    "del displacement_data[0]\n",
    "del horsepower_data[0]\n",
    "del weight_data[0]\n",
    "del acceleration_data[0]\n",
    "del model_year_data[0]\n",
    "del origin_data[0]\n",
    "\n",
    "# Converter os dados para o tipo float\n",
    "mpg_data = list(map(float, mpg_data))\n",
    "cylinders_data = list(map(float, cylinders_data))\n",
    "displacement_data = list(map(float, displacement_data))\n",
    "horsepower_data = list(map(float, horsepower_data))\n",
    "weight_data = list(map(float, weight_data))\n",
    "acceleration_data = list(map(float, acceleration_data))\n",
    "model_year_data = list(map(float, model_year_data))\n",
    "origin_data = list(map(float, origin_data))\n",
    "\n",
    "# Comprovando que o primeiro elemento foi removido e que os dados são numéricos (com prints)\n",
    "print(\"mpg_data:\", mpg_data[:5])  # Exibindo os primeiros 5 elementos da lista mpg_data como exemplo\n",
    "print(\"cylinders_data:\", cylinders_data[:5])\n",
    "print(\"displacement_data:\", displacement_data[:5])\n",
    "print(\"horsepower_data:\", horsepower_data[:5])\n",
    "print(\"weight_data:\", weight_data[:5])\n",
    "print(\"acceleration_data:\", acceleration_data[:5])\n",
    "print(\"model_year_data:\", model_year_data[:5])\n",
    "print(\"origin_data:\", origin_data[:5])\n"
   ]
  },
  {
   "cell_type": "markdown",
   "metadata": {},
   "source": [
    "**8) Para terminar vamos mostrar alguns resultados. Para isso iremos utilizar a livraria *statistics*.**\n",
    "\n",
    "* Mostrar para cada uma das listas, quantas observações tem (quantos dados tem). \n",
    "* Mostrar o mínimo e o máximo de cada lista\n",
    "* Mostrar a média, mediana e desvio padrão de cada lista (utilizando statistics)"
   ]
  },
  {
   "cell_type": "code",
   "execution_count": 10,
   "metadata": {},
   "outputs": [
    {
     "name": "stdout",
     "output_type": "stream",
     "text": [
      "Todas as listas têm 396 observações.\n",
      "Mínimo de mpg_data: 9.0\n",
      "Máximo de mpg_data: 46.6\n",
      "Mínimo de cylinders_data: 3.0\n",
      "Máximo de cylinders_data: 8.0\n",
      "Mínimo de displacement_data: 68.0\n",
      "Máximo de displacement_data: 455.0\n",
      "Mínimo de horsepower_data: 46.0\n",
      "Máximo de horsepower_data: 230.0\n",
      "Mínimo de weight_data: 1613.0\n",
      "Máximo de weight_data: 5140.0\n",
      "Mínimo de acceleration_data: 8.0\n",
      "Máximo de acceleration_data: 24.8\n",
      "Mínimo de model_year_data: 70.0\n",
      "Máximo de model_year_data: 82.0\n",
      "Mínimo de origin_data: 1.0\n",
      "Máximo de origin_data: 3.0\n",
      "Média de mpg_data: 23.52979797979798\n",
      "Mediana de mpg_data: 23.0\n",
      "Desvio Padrão de mpg_data: 7.83077479456121\n",
      "Média de cylinders_data: 5.452020202020202\n",
      "Mediana de cylinders_data: 4.0\n",
      "Desvio Padrão de cylinders_data: 1.6989113296225788\n",
      "Média de displacement_data: 193.24621212121212\n",
      "Mediana de displacement_data: 146.0\n",
      "Desvio Padrão de displacement_data: 104.35517787907129\n",
      "Média de horsepower_data: 104.22222222222223\n",
      "Mediana de horsepower_data: 92.0\n",
      "Desvio Padrão de horsepower_data: 38.30802686962829\n",
      "Média de weight_data: 2968.9141414141413\n",
      "Mediana de weight_data: 2797.5\n",
      "Desvio Padrão de weight_data: 848.5508079203619\n",
      "Média de acceleration_data: 15.564646464646465\n",
      "Mediana de acceleration_data: 15.5\n",
      "Desvio Padrão de acceleration_data: 2.747641128937785\n",
      "Média de model_year_data: 76.01010101010101\n",
      "Mediana de model_year_data: 76.0\n",
      "Desvio Padrão de model_year_data: 3.6823078880202553\n",
      "Média de origin_data: 1.5757575757575757\n",
      "Mediana de origin_data: 1.0\n",
      "Desvio Padrão de origin_data: 0.8030436921248121\n"
     ]
    }
   ],
   "source": [
    "# Completar o exercício aqui\n",
    "\"\"\"\n",
    "This script provides functions to analyze and summarize data from multiple lists.\n",
    "It includes functions to check list lengths, calculate min/max values, and calculate mean, median, and standard deviation.\n",
    "\"\"\"\n",
    "\n",
    "import statistics\n",
    "\n",
    "def check_list_lengths(lists):\n",
    "    \"\"\"\n",
    "    Verifies that all lists have the same length.\n",
    "\n",
    "    Args:\n",
    "        lists (list): A list of lists.\n",
    "\n",
    "    Returns:\n",
    "        bool: True if all lists have the same length, False otherwise.\n",
    "    \"\"\"\n",
    "    return all(len(lst) == len(lists[0]) for lst in lists)\n",
    "\n",
    "def get_min_max(list_name, data):\n",
    "    \"\"\"\n",
    "    Calculates and returns the minimum and maximum values of a list.\n",
    "\n",
    "    Args:\n",
    "        list_name (str): The name of the list.\n",
    "        data (list): The list of data.\n",
    "\n",
    "    Returns:\n",
    "        tuple: A tuple of two values - the minimum and maximum values of the list.\n",
    "    \"\"\"\n",
    "    \n",
    "    print(f\"Mínimo de {list_name}:\", min(data))\n",
    "    print(f\"Máximo de {list_name}:\", max(data))\n",
    "\n",
    "def get_mean_median_std(list_name, data):\n",
    "    \"\"\"\n",
    "    Calculates and returns the mean, median, and standard deviation of a list.\n",
    "\n",
    "    Args:\n",
    "        list_name: The name of the list.\n",
    "        data: The list of data.\n",
    "\n",
    "    Returns:\n",
    "        A tuple of three values: the mean, median, and standard deviation of the list.\n",
    "    \"\"\"\n",
    "\n",
    "    print(f\"Média de {list_name}:\", statistics.mean(data))\n",
    "    print(f\"Mediana de {list_name}:\", statistics.median(data))\n",
    "    print(f\"Desvio Padrão de {list_name}:\", statistics.stdev(data))\n",
    "\n",
    "# Example usage assumes that the lists (mpg_data, cylinders_data, etc.) have been defined elsewhere.\n",
    "\n",
    "# Create a dictionary with the keys and values so we can iterate through each item with each function.\n",
    "data_dict = {\n",
    "    \"mpg_data\": mpg_data,\n",
    "    \"cylinders_data\": cylinders_data,\n",
    "    \"displacement_data\": displacement_data,\n",
    "    \"horsepower_data\": horsepower_data,\n",
    "    \"weight_data\": weight_data,\n",
    "    \"acceleration_data\": acceleration_data,\n",
    "    \"model_year_data\": model_year_data,\n",
    "    \"origin_data\": origin_data\n",
    "}\n",
    "\n",
    "# Check if all lists have the same length.\n",
    "if check_list_lengths(list(data_dict.values())):\n",
    "    print(\"Todas as listas têm\", len(list(data_dict.values())[0]), \"observações.\")\n",
    "else:\n",
    "  # Show how many observations (how much data) each list has.\n",
    "  for list_name, data in data_dict.items():\n",
    "    print(f\"Número de observações em {list_name}:\", len(data))\n",
    "\n",
    "# Calculate and show the minimum and maximum of each list.\n",
    "for list_name, data in data_dict.items():\n",
    "    get_min_max(list_name, data)\n",
    "\n",
    "# Calculate and show the mean, median, and standard deviation of each list.\n",
    "for list_name, data in data_dict.items():\n",
    "    get_mean_median_std(list_name, data)"
   ]
  },
  {
   "cell_type": "code",
   "execution_count": null,
   "metadata": {},
   "outputs": [],
   "source": []
  }
 ],
 "metadata": {
  "anaconda-cloud": {},
  "kernelspec": {
   "display_name": "Python 3 (ipykernel)",
   "language": "python",
   "name": "python3"
  },
  "language_info": {
   "codemirror_mode": {
    "name": "ipython",
    "version": 3
   },
   "file_extension": ".py",
   "mimetype": "text/x-python",
   "name": "python",
   "nbconvert_exporter": "python",
   "pygments_lexer": "ipython3",
   "version": "3.8.17"
  },
  "toc": {
   "base_numbering": 1,
   "nav_menu": {},
   "number_sections": true,
   "sideBar": true,
   "skip_h1_title": false,
   "title_cell": "Table of Contents",
   "title_sidebar": "Contents",
   "toc_cell": false,
   "toc_position": {},
   "toc_section_display": true,
   "toc_window_display": false
  },
  "varInspector": {
   "cols": {
    "lenName": 16,
    "lenType": 16,
    "lenVar": 40
   },
   "kernels_config": {
    "python": {
     "delete_cmd_postfix": "",
     "delete_cmd_prefix": "del ",
     "library": "var_list.py",
     "varRefreshCmd": "print(var_dic_list())"
    },
    "r": {
     "delete_cmd_postfix": ") ",
     "delete_cmd_prefix": "rm(",
     "library": "var_list.r",
     "varRefreshCmd": "cat(var_dic_list()) "
    }
   },
   "types_to_exclude": [
    "module",
    "function",
    "builtin_function_or_method",
    "instance",
    "_Feature"
   ],
   "window_display": false
  }
 },
 "nbformat": 4,
 "nbformat_minor": 4
}
