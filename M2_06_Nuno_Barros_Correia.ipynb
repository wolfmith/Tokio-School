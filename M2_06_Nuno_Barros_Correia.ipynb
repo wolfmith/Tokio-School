{
 "cells": [
  {
   "cell_type": "markdown",
   "metadata": {},
   "source": [
    "# Exercícios Módulo 2. Funções (Soluções)\n",
    "\n",
    "Considerações a ter em conta:\n",
    "\n",
    "* Guardar este documento com o seguinte formato para entrega: M2_06_nome_apelido1_apelido2\n",
    "* Fazer os exercícios com as ferramentas vistas nas sessões. \n",
    "* Comentar o código\n",
    "* Utilizar nomes de variáveis apropriados, se vai guardar uma nota, chamar a essa variável nota, não n ou x"
   ]
  },
  {
   "cell_type": "markdown",
   "metadata": {},
   "source": [
    "**1) Fazer uma função que devolva a área de um retângulo a partir da sua base e altura.\n",
    "A função chama-se area_retangulo(). Os valores da base e a altura pedem-se ao utilizador.**\n",
    "\n",
    "*Nota: a área de um retângulo obtém-se ao multiplicar a base pela altura.*"
   ]
  },
  {
   "cell_type": "code",
   "execution_count": 1,
   "metadata": {},
   "outputs": [
    {
     "name": "stdout",
     "output_type": "stream",
     "text": [
      "Digite a base do retângulo: 4\n",
      "Digite a altura do retângulo: 2\n",
      "A área do retângulo é: 8.0\n"
     ]
    }
   ],
   "source": [
    "# Completar o exercício aqui\n",
    "\n",
    "def area_retangulo():\n",
    "    # Solicita ao usuário que insira a base e a altura\n",
    "    base = float(input(\"Digite a base do retângulo: \"))\n",
    "    altura = float(input(\"Digite a altura do retângulo: \"))\n",
    "\n",
    "    # Calcula a área do retângulo\n",
    "    area = base * altura\n",
    "\n",
    "    # Retorna a área calculada\n",
    "    return area\n",
    "\n",
    "# Chama a função e armazena o resultado em uma variável\n",
    "resultado = area_retangulo()\n",
    "\n",
    "# Imprime a área do retângulo\n",
    "print(f\"A área do retângulo é: {resultado}\")"
   ]
  },
  {
   "cell_type": "markdown",
   "metadata": {},
   "source": [
    "**2) Fazer uma função que devolva a área de um círculo a partir de um raio.\n",
    "A função chama-se area_circulo(). O valor do raio pede-se ao utilizador:**\n",
    "\n",
    "Nota: a área de um círculo obtém-se ao elevar o raio ao quadrado e multiplicando o resultado pelo número pi. Pode utilizar o valor 3,14159 como pi ou importá-lo do módulo math:\n",
    "```python\n",
    "import math\n",
    "print(math.pi)\n",
    "> 3.1415...\n",
    "```"
   ]
  },
  {
   "cell_type": "code",
   "execution_count": 4,
   "metadata": {},
   "outputs": [
    {
     "name": "stdout",
     "output_type": "stream",
     "text": [
      "Digite o raio do círculo: 4\n",
      "A área do círculo, arredondada às décimas, é: 50.3\n"
     ]
    }
   ],
   "source": [
    "# Completar o exercício aqui\n",
    "import math\n",
    "\n",
    "def area_circulo():\n",
    "    # Solicita ao usuário que insira o raio do círculo\n",
    "    raio = float(input(\"Digite o raio do círculo: \"))\n",
    "\n",
    "    # Calcula a área do círculo usando a fórmula A = π * r^2\n",
    "    area = math.pi * raio**2\n",
    "\n",
    "    # Retorna a área calculada\n",
    "    return area\n",
    "\n",
    "# Chama a função e armazena o resultado em uma variável\n",
    "resultado = area_circulo()\n",
    "\n",
    "# Imprime a área do círculo\n",
    "print(f\"A área do círculo, arredondada às décimas, é: {resultado:.1f}\")"
   ]
  },
  {
   "cell_type": "markdown",
   "metadata": {},
   "source": [
    "**3)  Fazer uma função que a partir de dois números, que se solicitam por teclado ao utilizador e que se vai chamar relacao(), e cumpra as seguintes condições:**\n",
    "\n",
    "* Se o primeiro número é maior que o segundo, deve devolver 1\n",
    "* Se o primeiro número é menor que o segundo, deve devolver -1\n",
    "* Se ambos números são iguais, deve devolver um 0\n",
    "\n",
    "**Testar a relação entre os números com: '5 e 10', '10 e 5' e '5 e 5'**"
   ]
  },
  {
   "cell_type": "code",
   "execution_count": 5,
   "metadata": {},
   "outputs": [
    {
     "name": "stdout",
     "output_type": "stream",
     "text": [
      "Relação entre 5 e 10: -1\n",
      "Relação entre 10 e 5: 1\n",
      "Relação entre 5 e 5: 0\n"
     ]
    }
   ],
   "source": [
    "# Completar o exercício aqui\n",
    "\n",
    "def relacao(num1, num2):\n",
    "    if num1 > num2:\n",
    "        return 1\n",
    "    elif num1 < num2:\n",
    "        return -1\n",
    "    else:\n",
    "        return 0\n",
    "\n",
    "# Teste a relação entre os números'5 e 10', '10 e 5' e '5 e 5'\n",
    "resultado1 = relacao(5, 10)\n",
    "resultado2 = relacao(10, 5)\n",
    "resultado3 = relacao(5, 5)\n",
    "\n",
    "# Imprima os resultados\n",
    "print(f'Relação entre 5 e 10: {resultado1}')\n",
    "print(f'Relação entre 10 e 5: {resultado2}')\n",
    "print(f'Relação entre 5 e 5: {resultado3}')"
   ]
  },
  {
   "cell_type": "markdown",
   "metadata": {},
   "source": [
    "**4) Fazer uma função chamada ler_numero() que solicite e imprima um número do utilizador.  Utiliza esta função (ler_numeros) para pedir ao utilizador 3 números e guardamos estes 3 valores.\n",
    "De seguida, passe estes 3 números como argumento de uma nova função que se chame maior(a,b,c), que deve devolver o maior número:**"
   ]
  },
  {
   "cell_type": "code",
   "execution_count": 6,
   "metadata": {},
   "outputs": [
    {
     "name": "stdout",
     "output_type": "stream",
     "text": [
      "Digite um número: 4\n",
      "Digite um número: 89\n",
      "Digite um número: 5\n",
      "O maior número é: 89.0\n"
     ]
    }
   ],
   "source": [
    "# Completar o exercício aqui\n",
    "\n",
    "# Função para ler um número do utilizador\n",
    "def ler_numero():\n",
    "    numero = float(input(\"Digite um número: \"))\n",
    "    return numero\n",
    "\n",
    "# Função para encontrar o maior número entre três\n",
    "def maior(a, b, c):\n",
    "    if a >= b and a >= c:\n",
    "        return a\n",
    "    elif b >= a and b >= c:\n",
    "        return b\n",
    "    else:\n",
    "        return c\n",
    "\n",
    "# Solicita ao utilizador três números\n",
    "num1 = ler_numero()\n",
    "num2 = ler_numero()\n",
    "num3 = ler_numero()\n",
    "\n",
    "# Encontra o maior número entre os três\n",
    "maior_numero = maior(num1, num2, num3)\n",
    "\n",
    "# Imprime o maior número\n",
    "print(f\"O maior número é: {maior_numero}\")"
   ]
  },
  {
   "cell_type": "markdown",
   "metadata": {},
   "source": [
    "**5) Fazer uma função chamada imc(). Esta função proporciona-nos o estado nutricional de uma  pessoa. É a classificação do seu índice de massa corporal (IMC), segundo a definição:**\n",
    "* Baixo peso:  0 < 18.50\n",
    "* Normal:       entre (18.50, 25.00)\n",
    "* Sobrepeso:  entre (25.00, 30.00)\n",
    "* Obesidade:   ∞  > 30.00  \n",
    " A função irá receber o peso (em quilos) e o tamanho de uma pessoa (em metros com dois valores decimais) do utilizador, na qual se pode calcular o IMC da seguinte forma:\n",
    "\n",
    "*IMC = peso / (altura * altura)*\n",
    "*Classificação: IMC (Kg/m^2)*\n"
   ]
  },
  {
   "cell_type": "code",
   "execution_count": 9,
   "metadata": {},
   "outputs": [
    {
     "name": "stdout",
     "output_type": "stream",
     "text": [
      "Digite o peso em quilos: 95\n",
      "Digite a altura em metros (use dois valores decimais): 1.456\n",
      "Por favor, insira um número com exatamente duas casas decimais.\n",
      "Digite a altura em metros (use dois valores decimais): 1.8\n",
      "O seu IMC é 29.32, que é classificado como: Sobrepeso\n"
     ]
    }
   ],
   "source": [
    "# Completar o exercício aqui\n",
    "\n",
    "# Função para obter uma entrada com exatamente duas casas decimais\n",
    "def obter_entrada_com_duas_casas_decimais(prompt):\n",
    "    while True:\n",
    "        try:\n",
    "            valor = input(prompt)\n",
    "            # Tenta converter a entrada para float\n",
    "            valor_float = float(valor)\n",
    "            # Verifica se a entrada tem exatamente duas casas decimais\n",
    "            if valor.count('.') == 1 and len(valor.split('.')[1]) == 2:\n",
    "                return valor_float\n",
    "            else:\n",
    "                print(\"Por favor, insira um número com exatamente duas casas decimais.\")\n",
    "        except ValueError:\n",
    "            print(\"Entrada inválida. Por favor, insira um número válido.\")\n",
    "\n",
    "# Função para calcular o IMC e fornecer a classificação\n",
    "def imc():\n",
    "    # Solicita ao utilizador o peso\n",
    "    peso = float(input(\"Digite o peso em quilos: \"))\n",
    "    \n",
    "    # Chama a função para obter a altura com duas casas decimais\n",
    "    altura = obter_entrada_com_duas_casas_decimais(\"Digite a altura em metros (use dois valores decimais): \")\n",
    "\n",
    "    # Calcula o IMC\n",
    "    imc = peso / (altura * altura)\n",
    "\n",
    "    # Determina a classificação com base no IMC\n",
    "    if imc < 18.5:\n",
    "        classificacao = \"Baixo peso\"\n",
    "    elif 18.5 <= imc < 25:\n",
    "        classificacao = \"Normal\"\n",
    "    elif 25 <= imc < 30:\n",
    "        classificacao = \"Sobrepeso\"\n",
    "    else:\n",
    "        classificacao = \"Obesidade\"\n",
    "\n",
    "    # Imprime o resultado\n",
    "    print(f\"O seu IMC é {imc:.2f}, que é classificado como: {classificacao}\")\n",
    "\n",
    "# Chama a função para calcular o IMC\n",
    "imc()\n"
   ]
  }
 ],
 "metadata": {
  "anaconda-cloud": {},
  "kernelspec": {
   "display_name": "Python 3 (ipykernel)",
   "language": "python",
   "name": "python3"
  },
  "language_info": {
   "codemirror_mode": {
    "name": "ipython",
    "version": 3
   },
   "file_extension": ".py",
   "mimetype": "text/x-python",
   "name": "python",
   "nbconvert_exporter": "python",
   "pygments_lexer": "ipython3",
   "version": "3.8.17"
  }
 },
 "nbformat": 4,
 "nbformat_minor": 1
}
