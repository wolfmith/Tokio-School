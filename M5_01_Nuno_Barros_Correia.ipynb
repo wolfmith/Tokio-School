{
 "cells": [
  {
   "cell_type": "markdown",
   "metadata": {},
   "source": [
    "# Exercícios Módulo 5. Ficheiros (Enunciado)\n",
    "\n",
    "Considerações a ter em conta:\n",
    "\n",
    "* Guardar este documento com o seguinte formato para entrega: __M5_01_nome_apelido1_apelido2__\n",
    "* Fazer os exercícios com as ferramentas vistas nas sessões. \n",
    "* Comentar o código\n",
    "* Utilizar nomes de variáveis apropriados, se vai guardar uma nota, chamar a essa variável nota, não n ou x"
   ]
  },
  {
   "cell_type": "markdown",
   "metadata": {},
   "source": [
    "**1)  Neste exercício deverá criar um programa que abra e leia um ficheiro de texto, e nos proporcione a seguinte informação:**\n",
    "\n",
    "* Nome do ficheiro\n",
    "* Se o ficheiro está fechado ou não (True ou False)\n",
    "* O modo de abertura do ficheiro\n",
    "\n",
    "O ficheiro de texto irá denominar-se **provas.txt** e terá o seguinte conteúdo em texto plano (criar previamente):\n",
    "\n",
    "```\n",
    "Olá que tal estás \n",
    "Isto é uma prova \n",
    "Hoje não chove\n",
    "Aproxima-se o natal \n",
    "Até logo e boa \n",
    "continuação\n",
    "```\n",
    "\n",
    "Pesquisar na documentação que métodos nos proporcionam a informação requerida. Por último, listar o conteúdo do ficheiro.\n",
    "\n",
    "**Aviso importante**: *se quer ler um ficheiro que não se escreveu diretamente com Python, é possível que encontre erros de codificação ao \n",
    "mostrar alguns caracteres. Assegure-se de indicar a codificação do ficheiro manualmente durante a abertura como argumento no **open**, por\n",
    "exemplo com UTF-8*:\n",
    "\n",
    "```python\n",
    "open(..., encoding=\"utf8\")\n",
    "```"
   ]
  },
  {
   "cell_type": "code",
   "execution_count": 7,
   "metadata": {},
   "outputs": [
    {
     "name": "stdout",
     "output_type": "stream",
     "text": [
      "Nome do arquivo: provas.txt\n",
      "O arquivo está fechado? False\n",
      "Modo de abertura do arquivo: r\n",
      "\n",
      "Conteúdo do arquivo:\n",
      "Olá que tal estás\n",
      "Isto é uma prova\n",
      "Hoje não chove\n",
      "Aproxima-se o natal\n",
      "Até logo e boa\n",
      "continuação\n",
      "O arquivo está fechado? True\n"
     ]
    }
   ],
   "source": [
    "# Completar o exercício aqui\n",
    "\n",
    "# Abre o arquivo \"provas.txt\" em modo de leitura com codificação UTF-8\n",
    "with open(\"provas.txt\", \"r\", encoding=\"utf8\") as arquivo:\n",
    "    # Obtém o nome do arquivo\n",
    "    nome_do_arquivo = arquivo.name\n",
    "    \n",
    "    # Verifica se o arquivo está fechado\n",
    "    esta_fechado = arquivo.closed\n",
    "    \n",
    "    # Obtém o modo de abertura do arquivo\n",
    "    modo_abertura = arquivo.mode\n",
    "    \n",
    "    # Lê e imprime o conteúdo do arquivo linha por linha\n",
    "    conteudo = arquivo.readlines()\n",
    "    \n",
    "    print(f\"Nome do arquivo: {nome_do_arquivo}\")\n",
    "    print(f\"O arquivo está fechado? {esta_fechado}\")\n",
    "    print(f\"Modo de abertura do arquivo: {modo_abertura}\")\n",
    "    \n",
    "    print(\"\\nConteúdo do arquivo:\")\n",
    "    for linha in conteudo:\n",
    "        print(linha.strip())  # Remove quebras de linha extras\n",
    "arquivo.close()"
   ]
  },
  {
   "cell_type": "markdown",
   "metadata": {},
   "source": [
    "**2) Sobre o ficheiro anterior, obtenha a seguinte informação:**\n",
    "\n",
    "* Leitura de uma linha do ficheiro \n",
    "* Leitura do ficheiro linha a linha"
   ]
  },
  {
   "cell_type": "code",
   "execution_count": 24,
   "metadata": {},
   "outputs": [
    {
     "name": "stdout",
     "output_type": "stream",
     "text": [
      "Primeira linha do arquivo: Olá que tal estás\n",
      "\n",
      "Conteúdo do arquivo linha a linha:\n",
      "Olá que tal estás\n",
      "Isto é uma prova\n",
      "Hoje não chove\n",
      "Aproxima-se o natal\n",
      "Até logo e boa\n",
      "continuação\n",
      "Esta é uma nova linha de texto.\n",
      "Esta é uma nova linha de texto.\n",
      "Esta é uma nova linha de texto.\n"
     ]
    }
   ],
   "source": [
    "# Completar o exercício aqui\n",
    "# Nome do arquivo\n",
    "nome_arquivo = \"provas.txt\"\n",
    "\n",
    "# Leitura de uma linha do arquivo\n",
    "try:\n",
    "    with open(nome_arquivo, 'r', encoding=\"utf8\") as arquivo:\n",
    "        primeira_linha = arquivo.readline()\n",
    "except FileNotFoundError:\n",
    "    primeira_linha = None\n",
    "\n",
    "# Leitura do arquivo linha a linha\n",
    "try:\n",
    "    with open(nome_arquivo, 'r', encoding=\"utf8\") as arquivo:\n",
    "        linhas = arquivo.readlines()\n",
    "except FileNotFoundError:\n",
    "    linhas = []\n",
    "\n",
    "# Exibe a primeira linha do arquivo\n",
    "if primeira_linha is not None:\n",
    "    print(f\"Primeira linha do arquivo: {primeira_linha.strip()}\")\n",
    "\n",
    "# Exibe o arquivo linha a linha\n",
    "print(\"\\nConteúdo do arquivo linha a linha:\")\n",
    "for linha in linhas:\n",
    "    print(linha.strip())  # Remove espaços em branco extras e quebras de linha\n",
    "arquivo.close()"
   ]
  },
  {
   "cell_type": "markdown",
   "metadata": {},
   "source": [
    "**3)  Sobre o ficheiro anterior, fazer a seguinte operação:**\n",
    "\n",
    "* Abrir o ficheiro em modo de escrita (concatenando o conteúdo, sem substituir) e escrever uma nova linha de texto\n",
    "\n",
    "Comprovar que esta a funcionar corretamente imprimindo o conteúdo do ficheiro (terá que fechar e abrir a conexão para poder visualizar as mudanças)."
   ]
  },
  {
   "cell_type": "code",
   "execution_count": 29,
   "metadata": {},
   "outputs": [
    {
     "name": "stdout",
     "output_type": "stream",
     "text": [
      "\n",
      "Conteúdo do arquivo após a adição da nova linha:\n",
      "Olá que tal estás\n",
      "Isto é uma prova\n",
      "Hoje não chove\n",
      "Aproxima-se o natal\n",
      "Até logo e boa\n",
      "continuação\n",
      "Esta é uma nova linha de texto.\n",
      "Esta é uma nova linha de texto.\n",
      "Esta é uma nova linha de texto.\n",
      "Esta é uma nova linha de texto.\n",
      "Esta é uma nova linha de texto.\n",
      "Esta é uma nova linha de texto.\n",
      "Esta é uma nova linha de texto.\n",
      "Esta é uma nova linha de texto.\n"
     ]
    }
   ],
   "source": [
    "# Completar o exercício aqui\n",
    "\n",
    "# Nome do arquivo\n",
    "nome_arquivo = \"provas.txt\"\n",
    "\n",
    "# Texto a ser adicionado\n",
    "novo_texto = \"Esta é uma nova linha de texto.\"\n",
    "\n",
    "# Abrir o arquivo em modo de escrita (append)\n",
    "try:\n",
    "    with open(nome_arquivo, 'a', encoding=\"utf8\") as arquivo:\n",
    "        arquivo.write('\\n' + novo_texto)  # Adiciona uma nova linha antes do texto\n",
    "except FileNotFoundError:\n",
    "    print(f\"O arquivo '{nome_arquivo}' não foi encontrado.\")\n",
    "\n",
    "# Verificar o conteúdo atualizado do arquivo\n",
    "try:\n",
    "    with open(nome_arquivo, 'r', encoding=\"utf8\") as arquivo:\n",
    "        linhas = arquivo.readlines()\n",
    "except FileNotFoundError:\n",
    "    linhas = []\n",
    "\n",
    "# Exibe o conteúdo do arquivo após a operação de escrita\n",
    "print(\"\\nConteúdo do arquivo após a adição da nova linha:\")\n",
    "for linha in linhas:\n",
    "    print(linha.strip())  # Remove espaços em branco extras e quebras de linha\n",
    "arquivo.close()"
   ]
  },
  {
   "cell_type": "markdown",
   "metadata": {},
   "source": [
    "**4) Sobre o ficheiro anterior, fazer a seguinte operação:**\n",
    "\n",
    "* Abrir o ficheiro em modo de escrita (substituindo o conteúdo) e escrever uma nova linha de texto\n",
    "\n",
    "Comprovar que esta a funcionar corretamente imprimindo o conteúdo do ficheiro (terá que fechar e abrir a conexão para poder visualizar as mudanças)."
   ]
  },
  {
   "cell_type": "code",
   "execution_count": 31,
   "metadata": {},
   "outputs": [
    {
     "name": "stdout",
     "output_type": "stream",
     "text": [
      "\n",
      "Conteúdo do arquivo após a substituição do conteúdo:\n",
      "Este é um novo conteúdo que substituirá o antigo.\n"
     ]
    }
   ],
   "source": [
    "# Completar o exercício aqui\n",
    "\n",
    "# Nome do arquivo\n",
    "nome_arquivo = \"provas.txt\"\n",
    "\n",
    "# Texto a ser escrito e substituirá o conteúdo existente\n",
    "novo_texto = \"Este é um novo conteúdo que substituirá o antigo.\"\n",
    "\n",
    "# Abrir o arquivo em modo de escrita (write)\n",
    "try:\n",
    "    with open(nome_arquivo, 'w', encoding=\"utf8\") as arquivo:\n",
    "        arquivo.write(novo_texto)\n",
    "except FileNotFoundError:\n",
    "    print(f\"O arquivo '{nome_arquivo}' não foi encontrado.\")\n",
    "\n",
    "# Verificar o conteúdo atualizado do arquivo\n",
    "try:\n",
    "    with open(nome_arquivo, 'r', encoding=\"utf8\") as arquivo:\n",
    "        linhas = arquivo.readlines()\n",
    "except FileNotFoundError:\n",
    "    linhas = []\n",
    "\n",
    "# Exibe o conteúdo do arquivo após a operação de escrita\n",
    "print(\"\\nConteúdo do arquivo após a substituição do conteúdo:\")\n",
    "for linha in linhas:\n",
    "    print(linha.strip())  # Remove espaços em branco extras e quebras de linha\n",
    "arquivo.close()"
   ]
  },
  {
   "cell_type": "markdown",
   "metadata": {},
   "source": [
    "**5) Neste exercício deverá criar um programa que leia os dados de um ficheiro de texto, que transforme cada linha num dicionário e adicione o dicionario a uma lista chamada pessoas. De seguida percorre-se a lista pessoas e para cada uma mostrar da forma expressa no exemplo:**\n",
    "\n",
    "```\n",
    "(id=1) Carlos Pérez => 05/01/1989 \n",
    "```\n",
    "\n",
    "O ficheiro de texto irá denominar-se **pessoas.txt** e terá o seguinte conteúdo em texto plano (criar previamente):\n",
    "\n",
    "\n",
    "```\n",
    "1;Carlos;Pérez;05/01/1989\n",
    "2;Manuel;Heredia;26/12/1973\n",
    "3;Rosa;Campos;12/06/1961\n",
    "4;David;García;25/07/2006\n",
    "```\n",
    "\n",
    "Os campos do dicionário serão por ordem: **id**, **nome**, **apelido** e **nascimento**.\n",
    "\n",
    "**Aviso importante**: *se quer ler um ficheiro que não se escreveu diretamente com Python,  é possível que encontre erros de codificação ao mostrar alguns caracteres. Assegure-se de indicar a codificação do ficheiro manualmente durante a abertura como um argumento no **open**, por exemplo com UTF-8*:\n",
    "\n",
    "```python\n",
    "open(..., encoding=\"utf8\")\n",
    "```\n",
    "\n",
    "Pista: é possível que tenha que recorrer a funções como replace ou split para poder modificar o texto de uma linha de texto. \n",
    "Pesquisar documentação sobre isso."
   ]
  },
  {
   "cell_type": "code",
   "execution_count": 33,
   "metadata": {},
   "outputs": [
    {
     "name": "stdout",
     "output_type": "stream",
     "text": [
      "(id=1) Carlos Pérez => 05/01/1989\n",
      "(id=2) Manuel Heredia => 26/12/1973\n",
      "(id=3) Rosa Campos => 12/06/1961\n",
      "(id=4) David García => 25/07/2006\n"
     ]
    }
   ],
   "source": [
    "# Completar o exercício aqui\n",
    "# Nome do arquivo\n",
    "nome_arquivo = \"pessoas.txt\"\n",
    "\n",
    "# Lista para armazenar os dicionários\n",
    "pessoas = []\n",
    "\n",
    "# Abrir o arquivo em modo de leitura com a codificação correta\n",
    "try:\n",
    "    with open(nome_arquivo, 'r', encoding=\"utf8\") as arquivo:\n",
    "        # Ler cada linha do arquivo\n",
    "        for linha in arquivo:\n",
    "            # Dividir a linha em campos usando o caractere \";\"\n",
    "            campos = linha.strip().split(';')\n",
    "            if len(campos) == 4:\n",
    "                # Criar um dicionário com os campos\n",
    "                pessoa = {\n",
    "                    'id': campos[0],\n",
    "                    'nome': campos[1],\n",
    "                    'apelido': campos[2],\n",
    "                    'nascimento': campos[3]\n",
    "                }\n",
    "                # Adicionar o dicionário à lista\n",
    "                pessoas.append(pessoa)\n",
    "except FileNotFoundError:\n",
    "    print(f\"O arquivo '{nome_arquivo}' não foi encontrado.\")\n",
    "\n",
    "# Percorrer a lista de pessoas e imprimir as informações no formato desejado\n",
    "for pessoa in pessoas:\n",
    "    print(f\"(id={pessoa['id']}) {pessoa['nome']} {pessoa['apelido']} => {pessoa['nascimento']}\")\n",
    "arquivo.close()"
   ]
  }
 ],
 "metadata": {
  "anaconda-cloud": {},
  "kernelspec": {
   "display_name": "Python 3 (ipykernel)",
   "language": "python",
   "name": "python3"
  },
  "language_info": {
   "codemirror_mode": {
    "name": "ipython",
    "version": 3
   },
   "file_extension": ".py",
   "mimetype": "text/x-python",
   "name": "python",
   "nbconvert_exporter": "python",
   "pygments_lexer": "ipython3",
   "version": "3.8.17"
  },
  "toc": {
   "base_numbering": 1,
   "nav_menu": {},
   "number_sections": true,
   "sideBar": true,
   "skip_h1_title": false,
   "title_cell": "Table of Contents",
   "title_sidebar": "Contents",
   "toc_cell": false,
   "toc_position": {},
   "toc_section_display": true,
   "toc_window_display": false
  },
  "varInspector": {
   "cols": {
    "lenName": 16,
    "lenType": 16,
    "lenVar": 40
   },
   "kernels_config": {
    "python": {
     "delete_cmd_postfix": "",
     "delete_cmd_prefix": "del ",
     "library": "var_list.py",
     "varRefreshCmd": "print(var_dic_list())"
    },
    "r": {
     "delete_cmd_postfix": ") ",
     "delete_cmd_prefix": "rm(",
     "library": "var_list.r",
     "varRefreshCmd": "cat(var_dic_list()) "
    }
   },
   "types_to_exclude": [
    "module",
    "function",
    "builtin_function_or_method",
    "instance",
    "_Feature"
   ],
   "window_display": false
  }
 },
 "nbformat": 4,
 "nbformat_minor": 1
}
