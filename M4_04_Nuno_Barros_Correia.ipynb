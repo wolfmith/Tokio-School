{
 "cells": [
  {
   "cell_type": "markdown",
   "metadata": {},
   "source": [
    "# Exercícios Módulo 4. Unidade 4. Dados temporais (Soluções)\n",
    "\n",
    "Considerações a ter em conta:\n",
    "\n",
    "* Guardar este documento com o seguinte formato para entrega: __M4_04_nome_apelido1_apelido2__\n",
    "* Fazer os exercícios com as ferramentas vistas nas sessões. \n",
    "* Comentar o código\n",
    "* Utilizar nomes de variáveis apropriados, se vai guardar uma nota, chamar a essa variável nota, não n ou x"
   ]
  },
  {
   "cell_type": "markdown",
   "metadata": {},
   "source": [
    "**1)  Dadas as duas seguintes datas, que correspondem às datas de nascimento de dois irmãos (na zona horária de Europa/Lisbon), indica qual é a diferença entre eles em dias, horas, minutos e segundos**"
   ]
  },
  {
   "cell_type": "code",
   "execution_count": 1,
   "metadata": {},
   "outputs": [
    {
     "name": "stdout",
     "output_type": "stream",
     "text": [
      "Diferença entre os irmãos: 2440 dias, 0 horas, 35 minutos, 0 segundos\n"
     ]
    }
   ],
   "source": [
    "# Completar o exercício aqui \n",
    "\n",
    "from datetime import datetime\n",
    "import pytz\n",
    "\n",
    "# Defina as datas de nascimento dos dois irmãos\n",
    "filho1 = datetime(1985, 10, 20, 17, 55, tzinfo=pytz.timezone('Europe/Lisbon'))\n",
    "filho2 = datetime(1992, 6, 25, 18, 30, tzinfo=pytz.timezone('Europe/Lisbon'))\n",
    "\n",
    "# Calcule a diferença entre as duas datas\n",
    "diferenca = filho2 - filho1\n",
    "\n",
    "# Extraia os dias, horas, minutos e segundos da diferença\n",
    "dias = diferenca.days\n",
    "segundos = diferenca.seconds\n",
    "horas = segundos // 3600\n",
    "segundos %= 3600\n",
    "minutos = segundos // 60\n",
    "segundos %= 60\n",
    "\n",
    "# Imprima a diferença\n",
    "print(f\"Diferença entre os irmãos: {dias} dias, {horas} horas, {minutos} minutos, {segundos} segundos\")\n"
   ]
  },
  {
   "cell_type": "markdown",
   "metadata": {},
   "source": [
    "**2) Criar uma função que se chame formato_data() que receba por parâmetro uma data do tipo datetime e nos devolva o seguinte formato: “20 de abril de 2020”.**\n",
    "\n",
    "**Em muitas ocasiões os nossos sistemas estão configurados de forma pré-determinada em inglês, e não se pode mudar a localidade para português. Portanto, temos que aprender a selecionar e mostrar os meses em português apesar do nosso sistema se encontrarem inglês ou noutro idioma.** \n",
    "\n",
    "**Criar uma tupla para armazenar a listagem de meses em português para poder selecionar o nome do mês adequado em função a uma data que lhe proporcionemos à função. Fica proibido de utilizar métodos como locale, setlocale ou strftime.**\n",
    "\n",
    "**Experimentar a função enviando-lhe uma data pré-definida por si e a data atual (now)**"
   ]
  },
  {
   "cell_type": "code",
   "execution_count": 2,
   "metadata": {},
   "outputs": [
    {
     "name": "stdout",
     "output_type": "stream",
     "text": [
      "Data pré-definida formatada: 20 de abril de 2020\n",
      "Data atual formatada: 14 de setembro de 2023\n"
     ]
    }
   ],
   "source": [
    "# Completar o exercício aqui\n",
    "\n",
    "from datetime import datetime\n",
    "\n",
    "def formato_data(data):\n",
    "    # Lista de nomes dos meses em português\n",
    "    meses = (\"janeiro\", \"fevereiro\", \"março\", \"abril\", \"maio\", \"junho\",\n",
    "             \"julho\", \"agosto\", \"setembro\", \"outubro\", \"novembro\", \"dezembro\")\n",
    "\n",
    "    # Extrair o dia, mês e ano da data\n",
    "    dia = data.day\n",
    "    mes = data.month\n",
    "    ano = data.year\n",
    "\n",
    "    # Formatando a data\n",
    "    data_formatada = f\"{dia} de {meses[mes - 1]} de {ano}\"\n",
    "\n",
    "    return data_formatada\n",
    "\n",
    "# Teste da função com uma data pré-definida\n",
    "data_predefinida = datetime(2020, 4, 20)\n",
    "data_formatada_predefinida = formato_data(data_predefinida)\n",
    "print(\"Data pré-definida formatada:\", data_formatada_predefinida)\n",
    "\n",
    "# Teste da função com a data atual\n",
    "data_atual = datetime.now()\n",
    "data_formatada_atual = formato_data(data_atual)\n",
    "print(\"Data atual formatada:\", data_formatada_atual)\n"
   ]
  },
  {
   "cell_type": "markdown",
   "metadata": {},
   "source": [
    "**3) Utilizando strftime, formate a data atual para que saia com o seguinte formato:**\n",
    "* Dia: 20\n",
    "* Mês: 04\n",
    "* Ano: 2020\n",
    "* Hora: 16\n",
    "* Minutos: 19\n",
    "* Segundos (e milissegundos): 08.879057"
   ]
  },
  {
   "cell_type": "code",
   "execution_count": 3,
   "metadata": {
    "scrolled": true
   },
   "outputs": [
    {
     "name": "stdout",
     "output_type": "stream",
     "text": [
      "Dia: 14\n",
      "Mês: 09\n",
      "Ano: 2023\n",
      "Hora: 14\n",
      "Minutos: 53\n",
      "Segundos (e milissegundos): 24.356733\n"
     ]
    }
   ],
   "source": [
    "# Completar o exercício aqui\n",
    "\n",
    "from datetime import datetime\n",
    "\n",
    "# Obtenha a data e hora atual\n",
    "data_atual = datetime.now()\n",
    "\n",
    "# Formate a data atual conforme especificado\n",
    "data_formatada = data_atual.strftime(\"Dia: %d\\nMês: %m\\nAno: %Y\\nHora: %H\\nMinutos: %M\\nSegundos (e milissegundos): %S.%f\")\n",
    "\n",
    "# Imprima a data formatada\n",
    "print(data_formatada)\n"
   ]
  }
 ],
 "metadata": {
  "anaconda-cloud": {},
  "kernelspec": {
   "display_name": "Python 3 (ipykernel)",
   "language": "python",
   "name": "python3"
  },
  "language_info": {
   "codemirror_mode": {
    "name": "ipython",
    "version": 3
   },
   "file_extension": ".py",
   "mimetype": "text/x-python",
   "name": "python",
   "nbconvert_exporter": "python",
   "pygments_lexer": "ipython3",
   "version": "3.8.17"
  },
  "toc": {
   "base_numbering": 1,
   "nav_menu": {},
   "number_sections": true,
   "sideBar": true,
   "skip_h1_title": false,
   "title_cell": "Table of Contents",
   "title_sidebar": "Contents",
   "toc_cell": false,
   "toc_position": {},
   "toc_section_display": true,
   "toc_window_display": false
  },
  "varInspector": {
   "cols": {
    "lenName": 16,
    "lenType": 16,
    "lenVar": 40
   },
   "kernels_config": {
    "python": {
     "delete_cmd_postfix": "",
     "delete_cmd_prefix": "del ",
     "library": "var_list.py",
     "varRefreshCmd": "print(var_dic_list())"
    },
    "r": {
     "delete_cmd_postfix": ") ",
     "delete_cmd_prefix": "rm(",
     "library": "var_list.r",
     "varRefreshCmd": "cat(var_dic_list()) "
    }
   },
   "types_to_exclude": [
    "module",
    "function",
    "builtin_function_or_method",
    "instance",
    "_Feature"
   ],
   "window_display": false
  }
 },
 "nbformat": 4,
 "nbformat_minor": 1
}
