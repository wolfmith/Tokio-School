{
 "cells": [
  {
   "cell_type": "markdown",
   "metadata": {},
   "source": [
    "# Exercícios Módulo 2. Controlo de fluxo (Soluções)\n",
    "\n",
    "Considerações a ter em conta:\n",
    "\n",
    "* Guardar este documento com o seguinte formato para entrega: __M2_05_nome_apelido1_apelido2__\n",
    "* Fazer os exercícios com as ferramentas vistas nas sessões. \n",
    "* Comentar o código\n",
    "* Utilizar nomes de variáveis apropriados, se vai guardar uma nota, chamar a essa variável nota, não n ou x"
   ]
  },
  {
   "cell_type": "markdown",
   "metadata": {},
   "source": [
    "## Exercícios de controlo de fluxo"
   ]
  },
  {
   "cell_type": "markdown",
   "metadata": {},
   "source": [
    "**1) Fazer um programa que leia três números por teclado e permitir avaliar o seguinte:** \n",
    "\n",
    "* Se os números estão por ordem ascendente\n",
    "* Se os números não estão por ordem ascendente\n",
    "* Se há um erro devido a que o primeiro número introduzido é 0"
   ]
  },
  {
   "cell_type": "code",
   "execution_count": 1,
   "metadata": {},
   "outputs": [
    {
     "name": "stdout",
     "output_type": "stream",
     "text": [
      "Digite o primeiro número diferente de 0: 9\n",
      "Digite o segundo número: 4\n",
      "Digite o terceiro número: 0\n",
      "Os números não estão em ordem ascendente.\n"
     ]
    }
   ],
   "source": [
    "# Completar o exercício aqui \n",
    "\n",
    "# Solicita três números ao usuário\n",
    "numero1 = float(input(\"Digite o primeiro número diferente de 0: \"))\n",
    "numero2 = float(input(\"Digite o segundo número: \"))\n",
    "numero3 = float(input(\"Digite o terceiro número: \"))\n",
    "\n",
    "# Verifica se o primeiro número é zero\n",
    "if numero1 == 0:\n",
    "    print(\"Erro: O primeiro número não pode ser zero.\")\n",
    "else:\n",
    "    # Verifica se os números estão em ordem ascendente\n",
    "    if numero1 < numero2 < numero3:\n",
    "        print(\"Os números estão em ordem ascendente.\")\n",
    "    else:\n",
    "        print(\"Os números não estão em ordem ascendente.\")"
   ]
  },
  {
   "cell_type": "markdown",
   "metadata": {},
   "source": [
    "**2) Fazer um programa que realize o somatório dos primeiros N números, começando em 0, e sendo N o número limite que o utilizador proporciona por teclado:** \n",
    "* Exemplo de número limite introduzido pelo utilizador: 5\n",
    "* somatório = 0 + 1 + 2 + 3 + 4 (somamos os 5 primeiros números)"
   ]
  },
  {
   "cell_type": "code",
   "execution_count": 1,
   "metadata": {},
   "outputs": [
    {
     "name": "stdout",
     "output_type": "stream",
     "text": [
      "Digite o número limite: 7\n",
      "O somatório de 0 até 6 é: 21\n"
     ]
    }
   ],
   "source": [
    "# Completar o exercício aqui\n",
    "\n",
    "# Solicita ao usuário o número limite\n",
    "n = int(input(\"Digite o número limite: \"))\n",
    "\n",
    "# Inicializa a variável de somatório\n",
    "somatorio = 0\n",
    "\n",
    "# Loop para somar os números de 0 até n-1\n",
    "for i in range(n):\n",
    "    somatorio += i\n",
    "\n",
    "# Imprime o resultado do somatório\n",
    "print(f\"O somatório de 0 até {n-1} é: {somatorio}\")"
   ]
  },
  {
   "cell_type": "markdown",
   "metadata": {},
   "source": [
    "**3) Fazer um programa que leia dois números por teclado e mostre o seguinte menu:** \n",
    "\n",
    "* Mostrar uma soma dos dois números\n",
    "* Mostrar um resto dos dois números (o primeiro menos o segundo) \n",
    "* Mostrar uma multiplicação dos dois números\n",
    "* Em caso de não introduzir uma opção válida, o programa irá informar que não é correta"
   ]
  },
  {
   "cell_type": "code",
   "execution_count": 13,
   "metadata": {},
   "outputs": [
    {
     "name": "stdout",
     "output_type": "stream",
     "text": [
      "Digite o primeiro número: 4\n",
      "Digite o segundo número: 8\n",
      "Escolha uma opção:\n",
      "1. Mostrar a soma dos dois números\n",
      "2. Mostrar o resto dos dois números (o primeiro menos o segundo)\n",
      "3. Mostrar a multiplicação dos dois números\n",
      "Digite o número da opção desejada: 5\n",
      "Opção inválida. Por favor, escolha uma opção válida (1, 2 ou 3).\n",
      "Escolha uma opção:\n",
      "1. Mostrar a soma dos dois números\n",
      "2. Mostrar o resto dos dois números (o primeiro menos o segundo)\n",
      "3. Mostrar a multiplicação dos dois números\n",
      "Digite o número da opção desejada: 2\n",
      "O resto dos dois números é: -4.0\n"
     ]
    }
   ],
   "source": [
    "# Completar o exercício aqui\n",
    "# Solicita ao usuário que insira dois números\n",
    "num1 = float(input(\"Digite o primeiro número: \"))\n",
    "num2 = float(input(\"Digite o segundo número: \"))\n",
    "\n",
    "while True:\n",
    "    # Exibe o menu de opções\n",
    "    print(\"Escolha uma opção:\")\n",
    "    print(\"1. Mostrar a soma dos dois números\")\n",
    "    print(\"2. Mostrar o resto dos dois números (o primeiro menos o segundo)\")\n",
    "    print(\"3. Mostrar a multiplicação dos dois números\")\n",
    "\n",
    "    # Solicita ao usuário que escolha uma opção\n",
    "    opcao = input(\"Digite o número da opção desejada: \")\n",
    "\n",
    "    # Verifica a opção escolhida e executa a operação correspondente\n",
    "    if opcao == \"1\":\n",
    "        resultado = num1 + num2\n",
    "        print(f\"A soma dos dois números é: {resultado}\")\n",
    "        break  # Use \"break\" to exit the loop\n",
    "    elif opcao == \"2\":\n",
    "        resultado = num1 - num2\n",
    "        print(f\"O resto dos dois números é: {resultado}\")\n",
    "        break  # Use \"break\" to exit the loop\n",
    "    elif opcao == \"3\":\n",
    "        resultado = num1 * num2\n",
    "        print(f\"A multiplicação dos dois números é: {resultado}\")\n",
    "        break  # Use \"break\" to exit the loop\n",
    "    # Em caso de não introduzir uma opção válida, o programa irá informar que não é correta\n",
    "    else:\n",
    "        print(\"Opção inválida. Por favor, escolha uma opção válida (1, 2 ou 3).\")"
   ]
  },
  {
   "cell_type": "markdown",
   "metadata": {},
   "source": [
    "**4) Fazer um programa que leia letras e conte com uma variável contadora as letras “a” que se introduzem. Para sair do programa, introduzir o carácter “.”. Ao finalizar mostrar o número de vezes que se pressionou a letra “a”**"
   ]
  },
  {
   "cell_type": "code",
   "execution_count": 9,
   "metadata": {},
   "outputs": [
    {
     "name": "stdout",
     "output_type": "stream",
     "text": [
      "Digite uma string para procurar a letra 'a' (use '.' para terminar o programa): asdqqas\n",
      "Você digitou a letra 'a' 2 vezes até agora.\n",
      "Digite uma string para procurar a letra 'a' (use '.' para terminar o programa): asdqwdasdaaaa\n",
      "Você digitou a letra 'a' 8 vezes até agora.\n",
      "Digite uma string para procurar a letra 'a' (use '.' para terminar o programa): aaa.aaaaaaaaaaaaaaaaaaaaaa\n",
      "Você digitou a letra 'a' 11 vezes.\n"
     ]
    }
   ],
   "source": [
    "# Completar o exercício aqui\n",
    "\n",
    "# Inicializa a variável contadora\n",
    "contador_a = 0\n",
    "\n",
    "# Inicia um loop infinito\n",
    "while True:\n",
    "    # Solicita ao usuário que insira uma letra ou uma string\n",
    "    entrada = input(\"Digite uma string para procurar a letra 'a' (use '.' para terminar o programa): \")\n",
    "    \n",
    "    # Verifica se encontrou um ponto para sair do loop\n",
    "    if '.' in entrada:\n",
    "        position = entrada.find(\".\")\n",
    "        entrada = entrada[:position]\n",
    "        for letra in entrada:\n",
    "            # Verifica se a letra é 'a' (minúscula ou maiúscula)\n",
    "            if letra == 'a' or letra == 'A':\n",
    "                contador_a += 1\n",
    "        break\n",
    "    \n",
    "    # Itera sobre cada caractere na entrada\n",
    "    for letra in entrada:\n",
    "        # Verifica se a letra é 'a' (minúscula ou maiúscula)\n",
    "        if letra == 'a' or letra == 'A':\n",
    "            contador_a += 1\n",
    "    print(f\"Você digitou a letra 'a' {contador_a} vezes até agora.\")\n",
    "\n",
    "# Após sair do loop, exibe o número de vezes que \"a\" foi digitado até aparecer o \".\" para terminar o programa\n",
    "print(f\"Você digitou a letra 'a' {contador_a} vezes até terminar o programa.\")"
   ]
  },
  {
   "cell_type": "markdown",
   "metadata": {},
   "source": [
    "**5)  Fazer um programa que leia por teclado um número ímpar. Deve repetir-se o processo enquanto o utilizador continue a introduzir números ímpares. Quando introduzir um número par, o programa irá parar.**"
   ]
  },
  {
   "cell_type": "code",
   "execution_count": 10,
   "metadata": {},
   "outputs": [
    {
     "name": "stdout",
     "output_type": "stream",
     "text": [
      "Digite um número ímpar (ou um número par para sair): 1\n",
      "Você inseriu o número ímpar 1. Continue inserindo números ímpares.\n",
      "Digite um número ímpar (ou um número par para sair): 9\n",
      "Você inseriu o número ímpar 9. Continue inserindo números ímpares.\n",
      "Digite um número ímpar (ou um número par para sair): 2\n",
      "Você inseriu um número par. O programa será encerrado.\n"
     ]
    }
   ],
   "source": [
    "# Completar o exercício aqui\n",
    "\n",
    "while True:\n",
    "    numero = int(input(\"Digite um número ímpar (ou um número par para sair): \"))\n",
    "\n",
    "    # Verifica se o número é par\n",
    "    if numero % 2 == 0:\n",
    "        print(\"Você inseriu um número par. O programa será encerrado.\")\n",
    "        break\n",
    "    else:\n",
    "        print(f\"Você inseriu o número ímpar {numero}. Continue inserindo números ímpares.\")"
   ]
  },
  {
   "cell_type": "markdown",
   "metadata": {},
   "source": [
    "**6) Fazer um programa que some todos os números pares desde 0 até 100:**\n",
    "\n",
    "*Sugestão: pode utilizar as funções sum() e range() para o tornar mais fácil. O terceiro parâmetro na função range (início, fim, salto) indica um salto de números, experimente-o*"
   ]
  },
  {
   "cell_type": "code",
   "execution_count": 11,
   "metadata": {},
   "outputs": [
    {
     "name": "stdout",
     "output_type": "stream",
     "text": [
      "A soma de todos os números pares de 0 a 100 é: 2550\n"
     ]
    }
   ],
   "source": [
    "# Completar o exercício aqui\n",
    "\n",
    "# Use a função sum() com a função range() para somar números pares\n",
    "soma_pares = sum(range(0, 100+1, 2))\n",
    "\n",
    "# Imprimir o resultado\n",
    "print(f\"A soma de todos os números pares de 0 a 100 é: {soma_pares}\")"
   ]
  },
  {
   "cell_type": "markdown",
   "metadata": {},
   "source": [
    "**7)  Fazer um programa que solicite ao utilizador um número que representa o total de números que se vão introduzir. Posteriormente, ler todos esses números e fazer a média aritmética de todos eles:**"
   ]
  },
  {
   "cell_type": "code",
   "execution_count": 18,
   "metadata": {},
   "outputs": [
    {
     "name": "stdout",
     "output_type": "stream",
     "text": [
      "Digite o número total de números a serem introduzidos: 4\n",
      "Digite o 1º número: 12\n",
      "Digite o 2º número: 20\n",
      "Digite o 3º número: 12\n",
      "Digite o 4º número: 20\n",
      "A média aritmética dos números, arrendondada às décimas, é: 16.0\n"
     ]
    }
   ],
   "source": [
    "# Completar o exercício aqui\n",
    "\n",
    "# Solicita ao usuário o número total de números a serem introduzidos\n",
    "total_numeros = int(input(\"Digite o número total de números a serem introduzidos: \"))\n",
    "\n",
    "# Inicializa uma variável para armazenar a soma dos números\n",
    "soma = 0\n",
    "\n",
    "# Lê os números e soma-os\n",
    "for i in range(total_numeros):\n",
    "    numero = float(input(f\"Digite o {i + 1}º número: \"))\n",
    "    soma += numero\n",
    "\n",
    "# Calcula a média aritmética\n",
    "media = soma / total_numeros\n",
    "\n",
    "# Imprime o resultado arredondado a uma casa décimal\n",
    "print(f\"A média aritmética dos números, arrendondada às décimas, é: {media:.1f}\")\n"
   ]
  },
  {
   "cell_type": "markdown",
   "metadata": {},
   "source": [
    "**8) Fazer um programa que solicite ao utilizador um número inteiro de 0 a 9, e que enquanto o número não seja correto se repita o processo. Logo deve comprovar se o número se encontra na lista de números e notificá-lo:**\n",
    "\n",
    "*Conselho: a sintaxis “valor in lista” permite comprovar facilmente se um valor se encontra numa lista (devolver True ou False)*"
   ]
  },
  {
   "cell_type": "code",
   "execution_count": 3,
   "metadata": {},
   "outputs": [
    {
     "name": "stdout",
     "output_type": "stream",
     "text": [
      "Digite um número inteiro de 0 a 9: 24\n",
      "Número inválido. Por favor, digite um número de 0 a 9 válido.\n",
      "Digite um número inteiro de 0 a 9: 10\n",
      "Número inválido. Por favor, digite um número de 0 a 9 válido.\n",
      "Digite um número inteiro de 0 a 9: 9\n",
      "O número 9 está na lista de números.\n"
     ]
    }
   ],
   "source": [
    "# Completar o exercício aqui\n",
    "numeros = [1, 3, 6, 9]\n",
    "\n",
    "# Lista de números válidos 0 a 9 (10-1)\n",
    "numeros_validos = list(range(10))\n",
    "\n",
    "while True:\n",
    "    # Solicita ao usuário um número inteiro entre 0 e 9\n",
    "    numero = int(input(\"Digite um número inteiro de 0 a 9: \"))\n",
    "\n",
    "    # Verifica se o número está na lista de números válidos\n",
    "    if numero in numeros_validos:\n",
    "        if numero in numeros:\n",
    "            print(f\"O número {numero} está na lista de números.\")\n",
    "            break  # Sai do loop se o número for válido\n",
    "        else:\n",
    "            print(f\"O número {numero} não está na lista de números.\") # número válido mas não está na lista\n",
    "    else:\n",
    "        print(\"Número inválido. Por favor, digite um número de 0 a 9 válido.\") # número fora da faixa pretendida\n"
   ]
  },
  {
   "cell_type": "markdown",
   "metadata": {},
   "source": [
    "**9) Fazer um programa que utilize a função range() e a conversão para listas gera as seguintes listas dinamicamente (e mostrá-las com print):**\n",
    "\n",
    "* Todos os números de 0 a 10 [0, 1, 2, ..., 10]\n",
    "* Todos os números de -10 a 0 [-10, -9, -8, ..., 0]\n",
    "* Todos os números pares de 0 a 20 [0, 2, 4, ..., 20]\n",
    "* Todos os números ímpares entre -20 e 0 [-19, -17, -15, ..., -1]\n",
    "* Todos os números múltiplos de 5 a 50 [0, 5, 10, ..., 50]\n",
    "\n",
    "*Pista: utilizar o terceiro parâmetro da função range (início, fim, salto).*"
   ]
  },
  {
   "cell_type": "code",
   "execution_count": 4,
   "metadata": {},
   "outputs": [
    {
     "name": "stdout",
     "output_type": "stream",
     "text": [
      "Todos os números de 0 a 10: [0, 1, 2, 3, 4, 5, 6, 7, 8, 9, 10]\n",
      "Todos os números de -10 a 0: [-10, -9, -8, -7, -6, -5, -4, -3, -2, -1, 0]\n",
      "Todos os números pares de 0 a 20: [0, 2, 4, 6, 8, 10, 12, 14, 16, 18, 20]\n",
      "Todos os números ímpares entre -20 e 0: [-19, -17, -15, -13, -11, -9, -7, -5, -3, -1]\n",
      "Todos os números múltiplos de 5 de 0 a 50: [0, 5, 10, 15, 20, 25, 30, 35, 40, 45, 50]\n"
     ]
    }
   ],
   "source": [
    "# Completar o exercício aqui\n",
    "\n",
    "# Lista de todos os números de 0 a 10\n",
    "lista1 = list(range(11))\n",
    "print(\"Todos os números de 0 a 10:\", lista1)\n",
    "\n",
    "# Lista de todos os números de -10 a 0\n",
    "lista2 = list(range(-10, 1))\n",
    "print(\"Todos os números de -10 a 0:\", lista2)\n",
    "\n",
    "# Lista de todos os números pares de 0 a 20\n",
    "lista3 = list(range(0, 21, 2))\n",
    "print(\"Todos os números pares de 0 a 20:\", lista3)\n",
    "\n",
    "# Lista de todos os números ímpares entre -20 e 0\n",
    "lista4 = list(range(-19, 0, 2))\n",
    "print(\"Todos os números ímpares entre -20 e 0:\", lista4)\n",
    "\n",
    "# Lista de todos os números múltiplos de 5 de 0 a 50\n",
    "lista5 = list(range(0, 51, 5))\n",
    "print(\"Todos os números múltiplos de 5 de 0 a 50:\", lista5)\n"
   ]
  },
  {
   "cell_type": "markdown",
   "metadata": {},
   "source": [
    "**10) Fazer um programa que dadas duas listas, gera uma terceira lista com todos os elementos que se repitam nelas, mas não deve repetir-se nenhum elemento na nova lista:**"
   ]
  },
  {
   "cell_type": "code",
   "execution_count": 5,
   "metadata": {},
   "outputs": [
    {
     "name": "stdout",
     "output_type": "stream",
     "text": [
      "[' ', 'a', 'u', 'o', 'l']\n"
     ]
    }
   ],
   "source": [
    "# Completar o exercício aqui\n",
    "lista_1 = [\"o\", 'l', 'a', ' ', 'm', 'u', 'n', 'd', 'o']\n",
    "lista_2 = [\"o\", 'l', 'a', ' ', 'l', 'u', 'a']\n",
    "\n",
    "# Converte as listas em conjuntos (sets)\n",
    "set_1 = set(lista_1)\n",
    "set_2 = set(lista_2)\n",
    "\n",
    "# Encontra a interseção dos conjuntos\n",
    "intersecao = set_1.intersection(set_2)\n",
    "\n",
    "# Converte a interseção de volta para uma lista\n",
    "lista_3 = list(intersecao)\n",
    "\n",
    "# Imprime a lista resultante\n",
    "print(lista_3)"
   ]
  }
 ],
 "metadata": {
  "anaconda-cloud": {},
  "kernelspec": {
   "display_name": "Python 3 (ipykernel)",
   "language": "python",
   "name": "python3"
  },
  "language_info": {
   "codemirror_mode": {
    "name": "ipython",
    "version": 3
   },
   "file_extension": ".py",
   "mimetype": "text/x-python",
   "name": "python",
   "nbconvert_exporter": "python",
   "pygments_lexer": "ipython3",
   "version": "3.8.17"
  }
 },
 "nbformat": 4,
 "nbformat_minor": 1
}
