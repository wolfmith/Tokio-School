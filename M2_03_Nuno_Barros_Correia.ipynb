{
 "cells": [
  {
   "cell_type": "markdown",
   "metadata": {},
   "source": [
    "# Exercícios Módulo 2. Entrada e saída de dados (Soluções)\n",
    "\n",
    "Considerações a ter em conta:\n",
    "\n",
    "* Guardar este documento com o seguinte formato para entrega: __M2_04_nome_apelido1_apelido2__\n",
    "* Fazer os exercícios com as ferramentas vistas nas sessões. Ainda não chegámos às condicionais nem ciclos \n",
    "* Comentar o código\n",
    "* Utilizar nomes de variáveis apropriados, se vai guardar uma nota, chamar a essa variável nota, não n ou x"
   ]
  },
  {
   "cell_type": "markdown",
   "metadata": {},
   "source": [
    "**1) Utilizar o método input() para fazer as seguintes tarefas:**\n",
    "\n",
    "* Pedir um número por teclado, mostrar o resultado e o tipo (para saber em que tipo de dado captura a informação input()) \n",
    "* Pedir um número por teclado e assegurar que capturamos a informação em formato int\n",
    "* Pedir um número por teclado e assegurar-se de que capturamos a informação en formato float"
   ]
  },
  {
   "cell_type": "code",
   "execution_count": 5,
   "metadata": {},
   "outputs": [
    {
     "name": "stdout",
     "output_type": "stream",
     "text": [
      "Digite um número: 3.14\n",
      "Número digitado: 3.14\n",
      "Tipo de dado: <class 'str'>\n",
      "Digite um número inteiro: 914568\n",
      "Número inteiro digitado: 914568\n",
      "Tipo de dado: <class 'int'>\n",
      "Digite um número decimal: 10.0\n",
      "Número decimal digitado: 10.0\n",
      "Tipo de dado: <class 'float'>\n"
     ]
    }
   ],
   "source": [
    "# Completar o exercício aqui\n",
    "# Pedir um número por teclado, mostrar o resultado e o tipo\n",
    "numero = input(\"Digite um número: \")  # Captura a entrada do usuário como uma string\n",
    "print(\"Número digitado:\", numero)      # Mostra o número digitado\n",
    "print(\"Tipo de dado:\", type(numero))    # Mostra o tipo de dado da entrada (string)\n",
    "\n",
    "# Pedir um número por teclado e assegurar que capturamos a informação em formato int\n",
    "numero_int = int(input(\"Digite um número inteiro: \"))  # Captura e converte a entrada em int \n",
    "print(\"Número inteiro digitado:\", numero_int)          # Mostra o número inteiro digitado    \n",
    "print(\"Tipo de dado:\", type(numero_int))               # Mostra o tipo de dado (int)         \n",
    "\n",
    "# Pedir um número por teclado e assegurar-se de que capturamos a informação en formato float\n",
    "numero_float = float(input(\"Digite um número decimal: \"))  # Captura e converte a entrada em float\n",
    "print(\"Número decimal digitado:\", numero_float)             # Mostra o número decimal digitado\n",
    "print(\"Tipo de dado:\", type(numero_float))                  # Mostra o tipo de dado (float)\n"
   ]
  },
  {
   "cell_type": "markdown",
   "metadata": {},
   "source": [
    "**2) Formatar os seguintes valores para mostrar o resultado indicado:**\n",
    "\n",
    "* “Olá Mundo” → Alinhado à direita em 20 caracteres\n",
    "* “Olá Mundo” → Truncagem no quarto carácter (índice 3)\n",
    "* “Olá Mundo” → Alinhamento ao centro em 20 caracteres com truncagem no segundo carácter (índice 1) \n",
    "* 150 → Formatar a 5 números inteiros preenchidos com zeros\n",
    "* 7887 → Formatar a 7 números inteiros preenchidos com espaços\n",
    "* 20.02 → Formatar a 3 números inteiros e 3 números decimais"
   ]
  },
  {
   "cell_type": "code",
   "execution_count": 6,
   "metadata": {},
   "outputs": [
    {
     "name": "stdout",
     "output_type": "stream",
     "text": [
      "Resultado 1:            Olá Mundo\n",
      "Resultado 2: Olá\n",
      "Resultado 3:          O          \n",
      "Resultado 4: 00150\n",
      "Resultado 5:    7887\n",
      "Resultado 6: 020.020\n"
     ]
    }
   ],
   "source": [
    "# Completar o exercício aqui\n",
    "\n",
    "text = \"Olá Mundo\"\n",
    "# Formatar \"Olá Mundo\" alinhado à direita em 20 caracteres\n",
    "formatted_text1 = \"{:>20}\".format(text)\n",
    "print(\"Resultado 1:\", formatted_text1)  # Resultado esperado: \"           Olá Mundo\"\n",
    "\n",
    "# Formatar \"Olá Mundo\" com truncagem no quarto carácter (índice 3)\n",
    "formatted_text2 = \"{:.3}\".format(text)\n",
    "print(\"Resultado 2:\", formatted_text2)  # Resultado esperado: \"Olá\"\n",
    "\n",
    "# Formatar \"Olá Mundo\" com alinhamento ao centro em 20 caracteres\n",
    "# e truncagem no segundo carácter (índice 1)\n",
    "formatted_text3 = \"{:^20.1}\".format(text)\n",
    "print(\"Resultado 3:\", formatted_text3)  # Resultado esperado: \"         O          \"\n",
    "\n",
    "# Formatar o número 150 com zeros à esquerda até ocupar 5 dígitos\n",
    "number1 = 150\n",
    "formatted_number1 = \"{:05}\".format(number1)\n",
    "print(\"Resultado 4:\", formatted_number1)  # Resultado esperado: '00150'\n",
    "\n",
    "# Formatar o número 7887 com espaços à esquerda até ocupar 7 dígitos\n",
    "number2 = 7887\n",
    "formatted_number2 = \"{:7}\".format(number2)\n",
    "print(\"Resultado 5:\", formatted_number2)  # Resultado esperado: '   7887'\n",
    "\n",
    "# Formatar o número 20.02 com 3 dígitos inteiros e 3 decimais\n",
    "number3 = 20.02\n",
    "formatted_float = \"{:07.3f}\".format(number3)\n",
    "print(\"Resultado 6:\", formatted_float)  # Resultado esperado: '020.020'"
   ]
  },
  {
   "cell_type": "code",
   "execution_count": null,
   "metadata": {},
   "outputs": [],
   "source": []
  }
 ],
 "metadata": {
  "anaconda-cloud": {},
  "kernelspec": {
   "display_name": "Python 3 (ipykernel)",
   "language": "python",
   "name": "python3"
  },
  "language_info": {
   "codemirror_mode": {
    "name": "ipython",
    "version": 3
   },
   "file_extension": ".py",
   "mimetype": "text/x-python",
   "name": "python",
   "nbconvert_exporter": "python",
   "pygments_lexer": "ipython3",
   "version": "3.8.17"
  }
 },
 "nbformat": 4,
 "nbformat_minor": 1
}
