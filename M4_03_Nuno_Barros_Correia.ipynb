{
 "cells": [
  {
   "cell_type": "markdown",
   "metadata": {},
   "source": [
    "# Exercícios Módulo 4. Unidade 3. Erros e Exceções (Soluções)\n",
    "\n",
    "Considerações a ter em conta: \n",
    "\n",
    "* Guardar este documento com o seguinte formato para entrega: __M4_03_nome_apelido1_apelido2__\n",
    "* Fazer os exercícios com as ferramentas vistas nas sessões. \n",
    "* Comentar o código\n",
    "* Utilizar nomes de variáveis apropriados, se vai guardar uma nota, chamar a essa variável nota, não n ou x"
   ]
  },
  {
   "cell_type": "markdown",
   "metadata": {},
   "source": [
    "**1)  Localizar o erro no seguinte bloco de código. Criar uma exceção para evitar que o programa bloqueia e adicionar uma explicação numa mensagem ao utilizador com a causa e/ou solução::**"
   ]
  },
  {
   "cell_type": "code",
   "execution_count": 6,
   "metadata": {},
   "outputs": [
    {
     "name": "stdout",
     "output_type": "stream",
     "text": [
      "Erro: Divisão por zero não é permitida.\n",
      "Causa: division by zero\n"
     ]
    }
   ],
   "source": [
    "# Completar o exercício aqui\n",
    "try:\n",
    "    resultado = 10 / 0\n",
    "except ZeroDivisionError as e:\n",
    "    # Se ocorrer uma exceção ZeroDivisionError, isso será executado.\n",
    "    print(\"Erro: Divisão por zero não é permitida.\")\n",
    "    print(\"Causa:\", e)\n",
    "else:\n",
    "    # Isto será executado se a exceção não ocorrer.\n",
    "    print(\"A divisão foi realizada com sucesso.\")"
   ]
  },
  {
   "cell_type": "markdown",
   "metadata": {},
   "source": [
    "**2)  Localizar o erro no seguinte bloco de código. Criar uma exceção para evitar que o programa bloqueia e adicionar uma explicação numa mensagem ao utilizador com a causa e/ou solução::**"
   ]
  },
  {
   "cell_type": "code",
   "execution_count": 5,
   "metadata": {},
   "outputs": [
    {
     "name": "stdout",
     "output_type": "stream",
     "text": [
      "Erro: Índice fora dos limites da lista.\n",
      "Causa: list index out of range\n"
     ]
    }
   ],
   "source": [
    "# Completar o exercício aqui\n",
    "lista = [1, 2, 3, 4, 5]\n",
    "try:\n",
    "    elemento = lista[10]\n",
    "except IndexError as e:\n",
    "    # Se ocorrer uma exceção IndexError, isso será executado.\n",
    "    print(\"Erro: Índice fora dos limites da lista.\")\n",
    "    print(\"Causa:\", e)\n",
    "else:\n",
    "    # Isso será executado se a exceção não ocorrer.\n",
    "    print(\"Índice acessado com sucesso.\")"
   ]
  },
  {
   "cell_type": "markdown",
   "metadata": {},
   "source": [
    "**3)  Localizar o erro no seguinte bloco de código. Criar uma exceção para evitar que o programa bloqueia e adicionar uma explicação numa mensagem ao utilizador com a causa e/ou solução::**"
   ]
  },
  {
   "cell_type": "code",
   "execution_count": 3,
   "metadata": {},
   "outputs": [
    {
     "name": "stdout",
     "output_type": "stream",
     "text": [
      "Erro: A chave branco não existe no dicionário de cores.\n",
      "Causa: 'branco'\n"
     ]
    }
   ],
   "source": [
    "# Completar o exercício aqui\n",
    "cores = {'vermelho': 'red', 'verde': 'green', 'preto': 'black'}\n",
    "try:\n",
    "    cor_a_procurar = \"branco\"\n",
    "    cor = cores[cor_a_procurar]\n",
    "except KeyError as e:\n",
    "    # Se ocorrer uma exceção KeyError, isso será executado.\n",
    "    print(f\"Erro: A chave {cor_a_procurar} não existe no dicionário de cores.\")\n",
    "    print(\"Causa:\", e)\n",
    "else:\n",
    "    # Isto será executado se a exceção não ocorrer.\n",
    "    print(\"Chave encontrada com sucesso.\")"
   ]
  },
  {
   "cell_type": "markdown",
   "metadata": {},
   "source": [
    "**4) Localizar o erro no seguinte bloco de código. Criar uma exceção para evitar que o programa bloqueia e adicionar uma explicação numa mensagem ao utilizador com a causa e/ou solução::**"
   ]
  },
  {
   "cell_type": "code",
   "execution_count": 2,
   "metadata": {},
   "outputs": [
    {
     "name": "stdout",
     "output_type": "stream",
     "text": [
      "Erro: Não é possível concatenar uma string com um inteiro diretamente.\n",
      "Causa: can only concatenate str (not \"int\") to str\n"
     ]
    }
   ],
   "source": [
    "# Completar o exercício aqui\n",
    "try:\n",
    "    resultado = \"20\" + 15\n",
    "except TypeError as e:\n",
    "    # Se ocorrer uma exceção TypeError, isso será executado.\n",
    "    print(\"Erro: Não é possível concatenar uma string com um inteiro diretamente.\")\n",
    "    print(\"Causa:\", e)\n",
    "else:\n",
    "    # Isto será executado se a exceção não ocorrer.\n",
    "    print(\"Concatenação realizada com sucesso.\")"
   ]
  },
  {
   "cell_type": "markdown",
   "metadata": {},
   "source": [
    "**5)  Realizar uma função chamada agregar_uma_vez() que receba uma lista e um elemento como argumento. A função deve adicionar o elemento ao final da lista com a condição de não repetir nenhum elemento. Se este elemento já se encontra na lista deve-se invocar um erro de tipo ValueError que deve capturar e mostrar esta mensagem no seu lugar:**\n",
    "\n",
    "```\n",
    "  Erro: Impossível adicionar elementos duplicados => [elemento].\n",
    "```\n",
    "**Teste agregar os elementos 10, -2, “Olá” à lista de elementos com a função que criou e mostrar o seu conteúdo**\n",
    "\n",
    "*Pista: Pode utilizar a sintaxis: elemento in lista*"
   ]
  },
  {
   "cell_type": "code",
   "execution_count": 1,
   "metadata": {},
   "outputs": [
    {
     "name": "stdout",
     "output_type": "stream",
     "text": [
      "Elemento adicionado com sucesso.\n",
      "Erro: Impossível adicionar elementos duplicados => -2\n",
      "Elemento adicionado com sucesso.\n",
      "[1, 5, -2, 10, 'Olá']\n"
     ]
    }
   ],
   "source": [
    "# Completar o exercício aqui\n",
    "\n",
    "def adicionar_uma_vez(lista, elemento):\n",
    "    \"\"\"\n",
    "    Adiciona um elemento à lista somente se ele não estiver presente.\n",
    "\n",
    "    Esta função verifica se o elemento já está na lista. Se o elemento já estiver na lista, uma exceção ValueError\n",
    "    é levantada, indicando que elementos duplicados não são permitidos. Caso contrário, o elemento é adicionado à lista.\n",
    "\n",
    "    Args:\n",
    "        lista (list): A lista à qual o elemento será adicionado.\n",
    "        elemento: O elemento que será adicionado à lista.\n",
    "\n",
    "    Raises:\n",
    "        ValueError: Se o elemento já estiver presente na lista, uma exceção é levantada.\n",
    "\n",
    "    Example:\n",
    "        >>> elementos = [1, 5, -2]\n",
    "        >>> adicionar_uma_vez(elementos, 10)\n",
    "        >>> print(elementos)\n",
    "        [1, 5, -2, 10]\n",
    "        \n",
    "    \"\"\"\n",
    "    if elemento in lista:\n",
    "        raise ValueError(f\"Erro: Impossível adicionar elementos duplicados => {elemento}\")\n",
    "    else:\n",
    "        lista.append(elemento)\n",
    "\n",
    "# Testando a função\n",
    "elementos = [1, 5, -2]\n",
    "\n",
    "try:\n",
    "    adicionar_uma_vez(elementos, 10)\n",
    "except ValueError as e:\n",
    "    # Se ocorrer uma exceção ValueError, isso será executado.\n",
    "    print(e)\n",
    "else:\n",
    "    # Isto será executado se a exceção não ocorrer.\n",
    "    print(\"Elemento adicionado com sucesso.\")\n",
    "\n",
    "try:\n",
    "    adicionar_uma_vez(elementos, -2)\n",
    "except ValueError as e:\n",
    "    # Se ocorrer uma exceção ValueError, isso será executado.\n",
    "    print(e)\n",
    "else:\n",
    "    # Isto será executado se a exceção não ocorrer.\n",
    "    print(\"Elemento adicionado com sucesso.\")\n",
    "\n",
    "try:\n",
    "    adicionar_uma_vez(elementos, \"Olá\")\n",
    "except ValueError as e:\n",
    "    # Se ocorrer uma exceção ValueError, isso será executado.\n",
    "    print(e)\n",
    "else:\n",
    "    # Isto será executado se a exceção não ocorrer.\n",
    "    print(\"Elemento adicionado com sucesso.\")\n",
    "\n",
    "# Mostrando o conteúdo da lista\n",
    "print(elementos)\n"
   ]
  },
  {
   "cell_type": "markdown",
   "metadata": {},
   "source": [
    "**6) Pesquisa na documentação outra exceção que não se utilizou até agora e realiza os seguintes passos:**\n",
    "* Provocar o erro num código de exemplo.\n",
    "* Uma vez que as tenha provocado, controlá-las com try-except \n",
    "* Mostrar ao utilizador com uma mensagem personalizada, que estará dentro do except. "
   ]
  },
  {
   "cell_type": "code",
   "execution_count": 10,
   "metadata": {},
   "outputs": [
    {
     "name": "stdout",
     "output_type": "stream",
     "text": [
      "Error: Undefined variable => name 'undefined_variable' is not defined\n"
     ]
    }
   ],
   "source": [
    "# Completar o exercício aqui\n",
    "\n",
    "try:\n",
    "    # Provocando um NameError ao usar uma variável indefinida\n",
    "    resultado = variavel_indefinida  # Isto irá gerar um NameError\n",
    "except NameError as e:\n",
    "    # Capturando o NameError e exibindo uma mensagem de erro personalizada\n",
    "    print(f\"Erro: Variável indefinida => {e}\")\n",
    "else:\n",
    "    # Isto será executado se a exceção não ocorrer.\n",
    "    print(\"Variável definida com sucesso.\")"
   ]
  }
 ],
 "metadata": {
  "anaconda-cloud": {},
  "kernelspec": {
   "display_name": "Python 3 (ipykernel)",
   "language": "python",
   "name": "python3"
  },
  "language_info": {
   "codemirror_mode": {
    "name": "ipython",
    "version": 3
   },
   "file_extension": ".py",
   "mimetype": "text/x-python",
   "name": "python",
   "nbconvert_exporter": "python",
   "pygments_lexer": "ipython3",
   "version": "3.8.17"
  },
  "toc": {
   "base_numbering": 1,
   "nav_menu": {},
   "number_sections": true,
   "sideBar": true,
   "skip_h1_title": false,
   "title_cell": "Table of Contents",
   "title_sidebar": "Contents",
   "toc_cell": false,
   "toc_position": {},
   "toc_section_display": true,
   "toc_window_display": false
  },
  "varInspector": {
   "cols": {
    "lenName": 16,
    "lenType": 16,
    "lenVar": 40
   },
   "kernels_config": {
    "python": {
     "delete_cmd_postfix": "",
     "delete_cmd_prefix": "del ",
     "library": "var_list.py",
     "varRefreshCmd": "print(var_dic_list())"
    },
    "r": {
     "delete_cmd_postfix": ") ",
     "delete_cmd_prefix": "rm(",
     "library": "var_list.r",
     "varRefreshCmd": "cat(var_dic_list()) "
    }
   },
   "types_to_exclude": [
    "module",
    "function",
    "builtin_function_or_method",
    "instance",
    "_Feature"
   ],
   "window_display": false
  }
 },
 "nbformat": 4,
 "nbformat_minor": 1
}
