{
 "cells": [
  {
   "cell_type": "markdown",
   "metadata": {},
   "source": [
    "# Exercícios Módulo 2. Operadores\n",
    "\n",
    "Considerações a ter em conta:\n",
    "\n",
    "- Guardar este documento com o seguinte formato para entrega: __M2_02_nome_apelido1_apelido2__ \n",
    "- Fazer os exercícios com as ferramentas vistas nas sessões. Ainda não chegámos às condicionais nem ciclos \n",
    "- Comentar o código\n",
    "- Utilizar nomes de variáveis apropriados, se vai guardar uma nota, chamar a essa variável nota, não n ou x\n"
   ]
  },
  {
   "cell_type": "markdown",
   "metadata": {},
   "source": [
    "## Exercícios de operadores e expressões"
   ]
  },
  {
   "cell_type": "markdown",
   "metadata": {},
   "source": [
    "**1)  Armazenar 3 variáveis com 3 notas numéricas e fazer a média aritmética. Mostrar o resultado final com uma mensagem como esta: “A nota média é 6,0”**"
   ]
  },
  {
   "cell_type": "code",
   "execution_count": 6,
   "metadata": {},
   "outputs": [
    {
     "name": "stdout",
     "output_type": "stream",
     "text": [
      "Digite a primeira nota: 9\n",
      "Digite a segunda nota: 5\n",
      "Digite a terceira nota: 4\n",
      "A nota média é 6.0\n"
     ]
    }
   ],
   "source": [
    "# Completar o exercício aqui\n",
    "\n",
    "# Armazenar as notas em variáveis\n",
    "nota_1 = float(input(\"Digite a primeira nota: \"))\n",
    "nota_2 = float(input(\"Digite a segunda nota: \"))\n",
    "nota_3 = float(input(\"Digite a terceira nota: \"))\n",
    "\n",
    "# Calcular a média aritmética\n",
    "media = (nota_1 + nota_2 + nota_3) / 3\n",
    "\n",
    "# Arredondar a média para uma casa decimal\n",
    "media_arredondada = round(media, 1)\n",
    "\n",
    "# Mostrar o resultado formatado\n",
    "print(\"A nota média é\", media_arredondada)"
   ]
  },
  {
   "cell_type": "markdown",
   "metadata": {},
   "source": [
    "**2) Continuar o exercício anterior. Cada nota tem o valor percentual seguinte:**\n",
    "\n",
    "* 1ª nota: vale 15% do total \n",
    "* 2ª nota: vale 35% do total \n",
    "* 3ª nota: vale 50% do total\n",
    "\n",
    "**Calcular a nota média final.**"
   ]
  },
  {
   "cell_type": "code",
   "execution_count": 8,
   "metadata": {},
   "outputs": [
    {
     "name": "stdout",
     "output_type": "stream",
     "text": [
      "A nota média é 5.9\n"
     ]
    }
   ],
   "source": [
    "nota_1 = 10\n",
    "nota_2 = 7\n",
    "nota_3 = 4\n",
    "\n",
    "# Completar o exercício aqui\n",
    "\n",
    "# Calcular a média ponderada\n",
    "# 1ª nota: vale 15% do total\n",
    "# 2ª nota: vale 35% do total\n",
    "# 3ª nota: vale 50% do total\n",
    "media = nota_1 * .15 + nota_2 * .35 + nota_3 * .50\n",
    "\n",
    "# Arredondar a média para uma casa decimal\n",
    "media_arredondada = round(media, 1)\n",
    "\n",
    "# Mostrar o resultado formatado\n",
    "print(\"A nota média é\", media_arredondada)"
   ]
  },
  {
   "cell_type": "markdown",
   "metadata": {},
   "source": [
    "**3)  Ler 2 números por teclado e avaliar de forma booleana (True ou False) os seguintes aspetos:**\n",
    "\n",
    "* Se os dois números são iguais\n",
    "* Se os dois números são diferentes\n",
    "* Se o primeiro é maior que o segundo\n",
    "* Se o segundo é maior ou igual ao primeiro"
   ]
  },
  {
   "cell_type": "code",
   "execution_count": 10,
   "metadata": {},
   "outputs": [
    {
     "name": "stdout",
     "output_type": "stream",
     "text": [
      "Digite o primeiro número: 8\n",
      "Digite o segundo número: 4521.1\n",
      "Os dois números são iguais: False\n",
      "Os dois números são diferentes: True\n",
      "O primeiro número é maior que o segundo: False\n",
      "O segundo número é maior ou igual ao primeiro: True\n"
     ]
    }
   ],
   "source": [
    "# Completar o exercício aqui\n",
    "\n",
    "# Ler os dois números por teclado\n",
    "numero1 = float(input(\"Digite o primeiro número: \"))\n",
    "numero2 = float(input(\"Digite o segundo número: \"))\n",
    "\n",
    "# Avaliar os aspetos\n",
    "sao_iguais = numero1 == numero2\n",
    "sao_diferentes = numero1 != numero2\n",
    "primeiro_maior = numero1 > numero2\n",
    "segundo_maior_ou_igual = numero2 >= numero1\n",
    "\n",
    "# Mostrar os resultados booleanos\n",
    "print(\"Os dois números são iguais:\", sao_iguais)\n",
    "print(\"Os dois números são diferentes:\", sao_diferentes)\n",
    "print(\"O primeiro número é maior que o segundo:\", primeiro_maior)\n",
    "print(\"O segundo número é maior ou igual ao primeiro:\", segundo_maior_ou_igual)"
   ]
  },
  {
   "cell_type": "markdown",
   "metadata": {},
   "source": [
    "**4) Ler uma cadeia de texto introduzida pelo teclado e avaliar se tem um comprimento maior ou igual a três e menor que dez (mostrar unicamente True ou False) Pista: utilizar operadores lógicos**"
   ]
  },
  {
   "cell_type": "code",
   "execution_count": 13,
   "metadata": {},
   "outputs": [
    {
     "name": "stdout",
     "output_type": "stream",
     "text": [
      "Digite uma cadeia de texto: asdasdasdasdasdasd\n",
      "False\n"
     ]
    }
   ],
   "source": [
    "# Completar o exercício aqui\n",
    "\n",
    "# Ler a cadeia de texto por teclado\n",
    "cadeia = input(\"Digite uma cadeia de texto: \")\n",
    "\n",
    "# Avaliar o comprimento da cadeia de acordo com os parâmetros especificados\n",
    "comprimento_maior_igual_tres = len(cadeia) >= 3\n",
    "comprimento_menor_dez = len(cadeia) < 10\n",
    "\n",
    "# Avaliar se o comprimento está dentro da faixa especificada\n",
    "dentro_da_faixa = comprimento_maior_igual_tres and comprimento_menor_dez\n",
    "\n",
    "# Mostrar o resultado\n",
    "print(dentro_da_faixa)\n"
   ]
  },
  {
   "cell_type": "markdown",
   "metadata": {},
   "source": [
    "**5) Transcrever o seguinte algoritmo (utilizar operadores de atribuição sempre que possa):**\n",
    "\n",
    "* Guardar numa variável o número_mágico o valor 12345679 (sem o 8)\n",
    "* Ler por ecrã outro número_utilizador, especificar que seja entre 1 e 9 (assegurar que seja inteiro) \n",
    "* Multiplicar o número_utilizador por 9 por si mesmo\n",
    "* Multiplicar o número_mágico pelo número_utilizador por si mesmo \n",
    "* Finalmente mostrar o valor final do número_mágico por ecrã"
   ]
  },
  {
   "cell_type": "code",
   "execution_count": 15,
   "metadata": {},
   "outputs": [
    {
     "name": "stdout",
     "output_type": "stream",
     "text": [
      "Digite um número entre 1 e 9: 3\n",
      "O valor final do número mágico é: 333333333\n"
     ]
    }
   ],
   "source": [
    "# Completar o exercício aqui\n",
    "\n",
    "# Guardar o número mágico 12345679\n",
    "numero_magico = 12345679\n",
    "\n",
    "# Ler o número do utilizador entre 1 e 9\n",
    "numero_utilizador = int(input(\"Digite um número entre 1 e 9: \"))\n",
    "\n",
    "# Multiplicar o número do utilizador por 9 por si mesmo\n",
    "numero_utilizador *= 9\n",
    "\n",
    "# Multiplicar o número mágico pelo número do utilizador por si mesmo\n",
    "numero_magico *= numero_utilizador\n",
    "\n",
    "# Mostrar o valor final do número mágico\n",
    "print(\"O valor final do número mágico é:\", numero_magico)\n"
   ]
  }
 ],
 "metadata": {
  "anaconda-cloud": {},
  "kernelspec": {
   "display_name": "Python 3 (ipykernel)",
   "language": "python",
   "name": "python3"
  },
  "language_info": {
   "codemirror_mode": {
    "name": "ipython",
    "version": 3
   },
   "file_extension": ".py",
   "mimetype": "text/x-python",
   "name": "python",
   "nbconvert_exporter": "python",
   "pygments_lexer": "ipython3",
   "version": "3.8.17"
  }
 },
 "nbformat": 4,
 "nbformat_minor": 1
}
