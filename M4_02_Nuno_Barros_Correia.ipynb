{
 "cells": [
  {
   "cell_type": "markdown",
   "metadata": {},
   "source": [
    "# Exercícios Módulo 2. Unidade 2. Métodos aplicados (Soluções)\n",
    "\n",
    "Considerações a ter em conta:\n",
    "\n",
    "* Guardar este documento com o seguinte formato para entrega: __M4_02_nome_apelido1_apelido2__\n",
    "* Fazer os exercícios com as ferramentas vistas nas sessões. \n",
    "* Comentar o código\n",
    "* Utilizar nomes de variáveis apropriados, se vai guardar uma nota, chamar a essa variável nota, não n ou x"
   ]
  },
  {
   "cell_type": "markdown",
   "metadata": {},
   "source": [
    "**1) Solicitar um texto ao utilizador e dizer se:**\n",
    "* O texto é uma cadeia de texto\n",
    "* O texto é uma cadeia de dígitos\n",
    "* O texto inclui caracteres e números"
   ]
  },
  {
   "cell_type": "code",
   "execution_count": 16,
   "metadata": {},
   "outputs": [
    {
     "name": "stdout",
     "output_type": "stream",
     "text": [
      "Digite um texto (digite '.' para terminar): .\n",
      "Program terminated. Thank you for using this tool.\n"
     ]
    }
   ],
   "source": [
    "# Completar o exercício aqui\n",
    "\n",
    "while True:\n",
    "    # Prompt the user for input until they enter a period (.)\n",
    "    texto = input(\"Digite um texto (digite '.' para terminar): \") # recebe uma entrada de texto do usuário.\n",
    "    if texto == \".\":\n",
    "        print(\"Program terminated. Thank you for using this tool.\") \n",
    "        break\n",
    "    elif texto.isalpha():\n",
    "        print(\"O texto é uma cadeia de texto.\") # O método isalpha() verifica se todos os caracteres no texto são letras (uma cadeia de texto).\n",
    "    elif texto.isdigit():\n",
    "        print(\"O texto é uma cadeia de dígitos.\") # O método isdigit() verifica se todos os caracteres no texto são dígitos (uma cadeia de dígitos).\n",
    "    else:\n",
    "        if texto.strip(): # Check if the input is not empty after stripping whitespace. strip() returns false if string is empty after removing spaces.\n",
    "            print(\"O texto inclui caracteres e números.\") # Se nenhum dos dois primeiros casos for verdadeiro, significa que o texto inclui caracteres e números.\n",
    "        else:\n",
    "            print(\"O texto está vazio.\") # Provide feedback for empty input."
   ]
  },
  {
   "cell_type": "markdown",
   "metadata": {},
   "source": [
    "**2) Solicitar ao utilizador um texto e uma palavra a pesquisar dentro do texto. Se a localizar, extrair desde essa posição até ao final da frase e armazená-lo noutra variável, e imprimir.** \n",
    "* Exemplo de texto: Olá mundo que tal \n",
    "* Pesquisamos: mundo\n",
    "* Resultado: mundo que tal"
   ]
  },
  {
   "cell_type": "code",
   "execution_count": 21,
   "metadata": {},
   "outputs": [
    {
     "name": "stdout",
     "output_type": "stream",
     "text": [
      "Digite um texto:  \n",
      "O texto não pode estar vazio. Tente novamente.\n",
      "Digite um texto: buga buga buga\n",
      "Digite a palavra a pesquisar: buga\n",
      "Resultado: buga buga buga\n"
     ]
    }
   ],
   "source": [
    "# Completar o exercício aqui\n",
    "\n",
    "# Solicitar um texto ao usuário\n",
    "\n",
    "while True:\n",
    "    texto = input(\"Digite um texto: \")\n",
    "    \n",
    "    # Remover espaços em branco do início e do fim do texto\n",
    "    texto = texto.strip()\n",
    "    \n",
    "    # Verificar se o texto não está vazio\n",
    "    if texto:\n",
    "        break  # Saia do loop se o texto for válido\n",
    "    else:\n",
    "        print(\"O texto não pode estar vazio. Tente novamente.\")\n",
    "\n",
    "# Solicitar uma palavra a pesquisar dentro do texto\n",
    "while True:\n",
    "    palavra_pesquisar = input(\"Digite a palavra a pesquisar: \")\n",
    "    \n",
    "    # Remover espaços em branco do início e do fim do texto\n",
    "    palavra_pesquisar = palavra_pesquisar.strip()\n",
    "    \n",
    "    # Verificar se o texto não está vazio\n",
    "    if texto:\n",
    "        break  # Saia do loop se o texto for válido\n",
    "    else:\n",
    "        print(\"O texto não pode estar vazio. Tente novamente.\")\n",
    "\n",
    "\n",
    "# Verificar se a palavra a pesquisar está no texto\n",
    "if palavra_pesquisar in texto:\n",
    "    # Encontrar a posição onde a palavra começa\n",
    "    inicio = texto.index(palavra_pesquisar)\n",
    "\n",
    "    # Extrair desde essa posição até o final da frase\n",
    "    resultado = texto[inicio:]\n",
    "\n",
    "    # Imprimir o resultado\n",
    "    print(\"Resultado:\", resultado)\n",
    "else:\n",
    "    print(\"A palavra não foi encontrada no texto.\")"
   ]
  },
  {
   "cell_type": "markdown",
   "metadata": {},
   "source": [
    "**3) Partindo de uma stri com diferentes palavras separadas por espaços, criar uma lista onde cada elemento seja cada palavra do texto. Mostrar essa lista e mostrar o número de vezes que se encontra a palavra \"mundo\" nessa lista**\n",
    "\n",
    "* Texto = “Olá mundo mundo que tal mundo estás”\n",
    "* Resultado = 3"
   ]
  },
  {
   "cell_type": "code",
   "execution_count": 9,
   "metadata": {},
   "outputs": [
    {
     "name": "stdout",
     "output_type": "stream",
     "text": [
      "Lista de Palavras: ['Olá', 'mundo', 'mundo', 'que', 'tal', 'mundo', 'estás']\n",
      "Número de vezes que 'mundo' aparece: 3\n"
     ]
    }
   ],
   "source": [
    "# Completar o exercício aqui\n",
    "\n",
    "# Definir a string com o texto\n",
    "texto = \"Olá mundo mundo que tal mundo estás\"\n",
    "\n",
    "# Dividir o texto em palavras usando o espaço como separador\n",
    "palavras = texto.split()\n",
    "\n",
    "# Mostrar a lista de palavras\n",
    "print(\"Lista de Palavras:\", palavras)\n",
    "\n",
    "# Contar o número de vezes que a palavra \"mundo\" aparece na lista\n",
    "contagem = palavras.count(\"mundo\")\n",
    "\n",
    "# Mostrar o resultado\n",
    "print(\"Número de vezes que 'mundo' aparece:\", contagem)\n"
   ]
  }
 ],
 "metadata": {
  "anaconda-cloud": {},
  "kernelspec": {
   "display_name": "Python 3 (ipykernel)",
   "language": "python",
   "name": "python3"
  },
  "language_info": {
   "codemirror_mode": {
    "name": "ipython",
    "version": 3
   },
   "file_extension": ".py",
   "mimetype": "text/x-python",
   "name": "python",
   "nbconvert_exporter": "python",
   "pygments_lexer": "ipython3",
   "version": "3.8.17"
  },
  "toc": {
   "base_numbering": 1,
   "nav_menu": {},
   "number_sections": true,
   "sideBar": true,
   "skip_h1_title": false,
   "title_cell": "Table of Contents",
   "title_sidebar": "Contents",
   "toc_cell": false,
   "toc_position": {},
   "toc_section_display": true,
   "toc_window_display": false
  },
  "varInspector": {
   "cols": {
    "lenName": 16,
    "lenType": 16,
    "lenVar": 40
   },
   "kernels_config": {
    "python": {
     "delete_cmd_postfix": "",
     "delete_cmd_prefix": "del ",
     "library": "var_list.py",
     "varRefreshCmd": "print(var_dic_list())"
    },
    "r": {
     "delete_cmd_postfix": ") ",
     "delete_cmd_prefix": "rm(",
     "library": "var_list.r",
     "varRefreshCmd": "cat(var_dic_list()) "
    }
   },
   "types_to_exclude": [
    "module",
    "function",
    "builtin_function_or_method",
    "instance",
    "_Feature"
   ],
   "window_display": false
  }
 },
 "nbformat": 4,
 "nbformat_minor": 1
}
