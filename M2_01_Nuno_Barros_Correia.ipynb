{
 "cells": [
  {
   "cell_type": "markdown",
   "metadata": {},
   "source": [
    "# Exercícios Módulo 2. Tipos básicos\n",
    "\n",
    "Considerações a ter em conta: \n",
    "\n",
    "* Guardar este documento com o seguinte formato para entrega: __M2_01_nome_apelido1_apelido2__\n",
    "* Fazer os exercícios com as ferramentas vistas nas sessões. Ainda não chegámos às condicionais nem ciclos \n",
    "* Comentar o código\n",
    "* Utilizar nomes de variáveis apropriados, se vai guardar uma nota, chamar a essa variável nota, não n ou x"
   ]
  },
  {
   "cell_type": "markdown",
   "metadata": {},
   "source": [
    "## Exercícios de tipos de variáveis básicos"
   ]
  },
  {
   "cell_type": "markdown",
   "metadata": {},
   "source": [
    "**1) Identifica os tipos de dados (inteiro, real, booleano ou texto) dos seguintes valores:**\n",
    "```python\n",
    "\"Olá Mundo\"        # String\n",
    "True               # Boolean\n",
    "-25                # Int\n",
    "1.167              # float\n",
    "' '                # String\n",
    "```"
   ]
  },
  {
   "cell_type": "markdown",
   "metadata": {},
   "source": [
    "**2) Indica o resultado que irão mostrar os print com base a estas variáveis (sem necessidade de programar, mentalmente):**\n",
    "```python\n",
    "a = 10\n",
    "b = -5\n",
    "c =  \"Olá \"\n",
    "```\n",
    "\n",
    "```python\n",
    "print(a * 5)         # 50          Print the result of multiplying 'a' by 5 (50)\n",
    "print(a - b)         # 15          Print the result of subtracting 'b' from 'a' (15)\n",
    "print(c + \"Mundo\")   # \"Olá Mundo\" Print the concatenation of 'c' and the string \"Mundo\" (\"Olá Mundo\")\n",
    "print(c * 2)         # \"Olá Olá \"  Print the repetition of 'c' two times (\"Olá Olá \")\n",
    "print(c[-1])         # \" \"         Print the last character of string 'c' (\" \")\n",
    "print(c[1:])         # \"lá \"       Print the string 'c' starting from the second character (\"lá \")\n",
    "```"
   ]
  },
  {
   "cell_type": "markdown",
   "metadata": {},
   "source": [
    "**3) Armazenar 3 variáveis com 3 strings diferentes, um deles têm de ser 50 pontos (.) gerados de uma forma automática. Criar uma quarta variável que seja a concatenação dos 3 strings, unidos com um traço “-“. Finalmente mostrar esta quarta variável de forma completa e mostrando unicamente os 5 primeiros caracteres e os 5 últimos.**"
   ]
  },
  {
   "cell_type": "code",
   "execution_count": 3,
   "metadata": {},
   "outputs": [
    {
     "name": "stdout",
     "output_type": "stream",
     "text": [
      "String completa: Olá, mundo!-Python é divertido!-..................................................\n",
      "Primeiros 5 caracteres: Olá, \n",
      "Últimos 5 caracteres: .....\n"
     ]
    }
   ],
   "source": [
    "# Completar o exercício aqui\n",
    "string1 = \"Olá, mundo!\"            # Primeira string\n",
    "string2 = \"Python é divertido!\"    # Segunda string\n",
    "string3 = \".\" * 50                 # Terceira string com 50 pontos (.)\n",
    "\n",
    "concatenated_string = string1 + \"-\" + string2 + \"-\" + string3   # Concatenando as três strings com traço\n",
    "\n",
    "print(\"String completa:\", concatenated_string)   # Mostra a string completa\n",
    "print(\"Primeiros 5 caracteres:\", concatenated_string[:5])   # Mostra os primeiros 5 caracteres\n",
    "print(\"Últimos 5 caracteres:\", concatenated_string[-5:])   # Mostra os últimos 5 caracteres"
   ]
  },
  {
   "cell_type": "code",
   "execution_count": null,
   "metadata": {},
   "outputs": [],
   "source": []
  }
 ],
 "metadata": {
  "anaconda-cloud": {},
  "kernelspec": {
   "display_name": "Python 3 (ipykernel)",
   "language": "python",
   "name": "python3"
  },
  "language_info": {
   "codemirror_mode": {
    "name": "ipython",
    "version": 3
   },
   "file_extension": ".py",
   "mimetype": "text/x-python",
   "name": "python",
   "nbconvert_exporter": "python",
   "pygments_lexer": "ipython3",
   "version": "3.8.17"
  }
 },
 "nbformat": 4,
 "nbformat_minor": 1
}
